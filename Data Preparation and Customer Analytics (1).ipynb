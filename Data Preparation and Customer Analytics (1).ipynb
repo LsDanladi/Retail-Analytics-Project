{
 "cells": [
  {
   "cell_type": "code",
   "execution_count": 1,
   "id": "8fa54f7d",
   "metadata": {},
   "outputs": [],
   "source": [
    "# !pip installations"
   ]
  },
  {
   "cell_type": "code",
   "execution_count": 2,
   "id": "6cc439c7",
   "metadata": {},
   "outputs": [
    {
     "name": "stderr",
     "output_type": "stream",
     "text": [
      "C:\\Users\\Lawre\\anaconda3\\lib\\site-packages\\scipy\\__init__.py:146: UserWarning: A NumPy version >=1.16.5 and <1.23.0 is required for this version of SciPy (detected version 1.25.2\n",
      "  warnings.warn(f\"A NumPy version >={np_minversion} and <{np_maxversion}\"\n"
     ]
    }
   ],
   "source": [
    "# importing necessary libraries\n",
    "import pandas as pd\n",
    "import numpy as np\n",
    "import seaborn as sns\n",
    "import matplotlib.pyplot as plt\n",
    "from datetime import datetime, timedelta, date\n",
    "from scipy import stats"
   ]
  },
  {
   "cell_type": "code",
   "execution_count": 3,
   "id": "86d331e8",
   "metadata": {},
   "outputs": [],
   "source": [
    "# loading the data\n",
    "customerData = pd.read_csv('c:/quantium_sandbox/QVI_purchase_behaviour.csv')\n",
    "transactionData = pd.read_excel('c:/quantium_sandbox/QVI_transaction_data.xlsx')"
   ]
  },
  {
   "cell_type": "code",
   "execution_count": 4,
   "id": "6ede374b",
   "metadata": {},
   "outputs": [
    {
     "data": {
      "text/html": [
       "<div>\n",
       "<style scoped>\n",
       "    .dataframe tbody tr th:only-of-type {\n",
       "        vertical-align: middle;\n",
       "    }\n",
       "\n",
       "    .dataframe tbody tr th {\n",
       "        vertical-align: top;\n",
       "    }\n",
       "\n",
       "    .dataframe thead th {\n",
       "        text-align: right;\n",
       "    }\n",
       "</style>\n",
       "<table border=\"1\" class=\"dataframe\">\n",
       "  <thead>\n",
       "    <tr style=\"text-align: right;\">\n",
       "      <th></th>\n",
       "      <th>LYLTY_CARD_NBR</th>\n",
       "      <th>LIFESTAGE</th>\n",
       "      <th>PREMIUM_CUSTOMER</th>\n",
       "    </tr>\n",
       "  </thead>\n",
       "  <tbody>\n",
       "    <tr>\n",
       "      <th>0</th>\n",
       "      <td>1000</td>\n",
       "      <td>YOUNG SINGLES/COUPLES</td>\n",
       "      <td>Premium</td>\n",
       "    </tr>\n",
       "    <tr>\n",
       "      <th>1</th>\n",
       "      <td>1002</td>\n",
       "      <td>YOUNG SINGLES/COUPLES</td>\n",
       "      <td>Mainstream</td>\n",
       "    </tr>\n",
       "    <tr>\n",
       "      <th>2</th>\n",
       "      <td>1003</td>\n",
       "      <td>YOUNG FAMILIES</td>\n",
       "      <td>Budget</td>\n",
       "    </tr>\n",
       "    <tr>\n",
       "      <th>3</th>\n",
       "      <td>1004</td>\n",
       "      <td>OLDER SINGLES/COUPLES</td>\n",
       "      <td>Mainstream</td>\n",
       "    </tr>\n",
       "    <tr>\n",
       "      <th>4</th>\n",
       "      <td>1005</td>\n",
       "      <td>MIDAGE SINGLES/COUPLES</td>\n",
       "      <td>Mainstream</td>\n",
       "    </tr>\n",
       "    <tr>\n",
       "      <th>5</th>\n",
       "      <td>1007</td>\n",
       "      <td>YOUNG SINGLES/COUPLES</td>\n",
       "      <td>Budget</td>\n",
       "    </tr>\n",
       "    <tr>\n",
       "      <th>6</th>\n",
       "      <td>1009</td>\n",
       "      <td>NEW FAMILIES</td>\n",
       "      <td>Premium</td>\n",
       "    </tr>\n",
       "    <tr>\n",
       "      <th>7</th>\n",
       "      <td>1010</td>\n",
       "      <td>YOUNG SINGLES/COUPLES</td>\n",
       "      <td>Mainstream</td>\n",
       "    </tr>\n",
       "    <tr>\n",
       "      <th>8</th>\n",
       "      <td>1011</td>\n",
       "      <td>OLDER SINGLES/COUPLES</td>\n",
       "      <td>Mainstream</td>\n",
       "    </tr>\n",
       "    <tr>\n",
       "      <th>9</th>\n",
       "      <td>1012</td>\n",
       "      <td>OLDER FAMILIES</td>\n",
       "      <td>Mainstream</td>\n",
       "    </tr>\n",
       "  </tbody>\n",
       "</table>\n",
       "</div>"
      ],
      "text/plain": [
       "   LYLTY_CARD_NBR               LIFESTAGE PREMIUM_CUSTOMER\n",
       "0            1000   YOUNG SINGLES/COUPLES          Premium\n",
       "1            1002   YOUNG SINGLES/COUPLES       Mainstream\n",
       "2            1003          YOUNG FAMILIES           Budget\n",
       "3            1004   OLDER SINGLES/COUPLES       Mainstream\n",
       "4            1005  MIDAGE SINGLES/COUPLES       Mainstream\n",
       "5            1007   YOUNG SINGLES/COUPLES           Budget\n",
       "6            1009            NEW FAMILIES          Premium\n",
       "7            1010   YOUNG SINGLES/COUPLES       Mainstream\n",
       "8            1011   OLDER SINGLES/COUPLES       Mainstream\n",
       "9            1012          OLDER FAMILIES       Mainstream"
      ]
     },
     "execution_count": 4,
     "metadata": {},
     "output_type": "execute_result"
    }
   ],
   "source": [
    "# picking through the data\n",
    "customerData.head(10)"
   ]
  },
  {
   "cell_type": "markdown",
   "id": "974e1921",
   "metadata": {},
   "source": [
    "# Exploratory Data Analysis on the Customer Data"
   ]
  },
  {
   "cell_type": "code",
   "execution_count": 5,
   "id": "c765216d",
   "metadata": {},
   "outputs": [
    {
     "data": {
      "text/plain": [
       "(72637, 3)"
      ]
     },
     "execution_count": 5,
     "metadata": {},
     "output_type": "execute_result"
    }
   ],
   "source": [
    "customerData.shape"
   ]
  },
  {
   "cell_type": "code",
   "execution_count": 6,
   "id": "9ec5fb53",
   "metadata": {
    "scrolled": true
   },
   "outputs": [
    {
     "data": {
      "text/html": [
       "<div>\n",
       "<style scoped>\n",
       "    .dataframe tbody tr th:only-of-type {\n",
       "        vertical-align: middle;\n",
       "    }\n",
       "\n",
       "    .dataframe tbody tr th {\n",
       "        vertical-align: top;\n",
       "    }\n",
       "\n",
       "    .dataframe thead th {\n",
       "        text-align: right;\n",
       "    }\n",
       "</style>\n",
       "<table border=\"1\" class=\"dataframe\">\n",
       "  <thead>\n",
       "    <tr style=\"text-align: right;\">\n",
       "      <th></th>\n",
       "      <th>LYLTY_CARD_NBR</th>\n",
       "      <th>LIFESTAGE</th>\n",
       "      <th>PREMIUM_CUSTOMER</th>\n",
       "    </tr>\n",
       "  </thead>\n",
       "  <tbody>\n",
       "    <tr>\n",
       "      <th>72627</th>\n",
       "      <td>2330501</td>\n",
       "      <td>OLDER SINGLES/COUPLES</td>\n",
       "      <td>Budget</td>\n",
       "    </tr>\n",
       "    <tr>\n",
       "      <th>72628</th>\n",
       "      <td>2370001</td>\n",
       "      <td>OLDER SINGLES/COUPLES</td>\n",
       "      <td>Premium</td>\n",
       "    </tr>\n",
       "    <tr>\n",
       "      <th>72629</th>\n",
       "      <td>2370181</td>\n",
       "      <td>YOUNG SINGLES/COUPLES</td>\n",
       "      <td>Mainstream</td>\n",
       "    </tr>\n",
       "    <tr>\n",
       "      <th>72630</th>\n",
       "      <td>2370361</td>\n",
       "      <td>OLDER SINGLES/COUPLES</td>\n",
       "      <td>Budget</td>\n",
       "    </tr>\n",
       "    <tr>\n",
       "      <th>72631</th>\n",
       "      <td>2370581</td>\n",
       "      <td>OLDER SINGLES/COUPLES</td>\n",
       "      <td>Budget</td>\n",
       "    </tr>\n",
       "    <tr>\n",
       "      <th>72632</th>\n",
       "      <td>2370651</td>\n",
       "      <td>MIDAGE SINGLES/COUPLES</td>\n",
       "      <td>Mainstream</td>\n",
       "    </tr>\n",
       "    <tr>\n",
       "      <th>72633</th>\n",
       "      <td>2370701</td>\n",
       "      <td>YOUNG FAMILIES</td>\n",
       "      <td>Mainstream</td>\n",
       "    </tr>\n",
       "    <tr>\n",
       "      <th>72634</th>\n",
       "      <td>2370751</td>\n",
       "      <td>YOUNG FAMILIES</td>\n",
       "      <td>Premium</td>\n",
       "    </tr>\n",
       "    <tr>\n",
       "      <th>72635</th>\n",
       "      <td>2370961</td>\n",
       "      <td>OLDER FAMILIES</td>\n",
       "      <td>Budget</td>\n",
       "    </tr>\n",
       "    <tr>\n",
       "      <th>72636</th>\n",
       "      <td>2373711</td>\n",
       "      <td>YOUNG SINGLES/COUPLES</td>\n",
       "      <td>Mainstream</td>\n",
       "    </tr>\n",
       "  </tbody>\n",
       "</table>\n",
       "</div>"
      ],
      "text/plain": [
       "       LYLTY_CARD_NBR               LIFESTAGE PREMIUM_CUSTOMER\n",
       "72627         2330501   OLDER SINGLES/COUPLES           Budget\n",
       "72628         2370001   OLDER SINGLES/COUPLES          Premium\n",
       "72629         2370181   YOUNG SINGLES/COUPLES       Mainstream\n",
       "72630         2370361   OLDER SINGLES/COUPLES           Budget\n",
       "72631         2370581   OLDER SINGLES/COUPLES           Budget\n",
       "72632         2370651  MIDAGE SINGLES/COUPLES       Mainstream\n",
       "72633         2370701          YOUNG FAMILIES       Mainstream\n",
       "72634         2370751          YOUNG FAMILIES          Premium\n",
       "72635         2370961          OLDER FAMILIES           Budget\n",
       "72636         2373711   YOUNG SINGLES/COUPLES       Mainstream"
      ]
     },
     "execution_count": 6,
     "metadata": {},
     "output_type": "execute_result"
    }
   ],
   "source": [
    "customerData.tail(10)"
   ]
  },
  {
   "cell_type": "code",
   "execution_count": 7,
   "id": "a973edac",
   "metadata": {},
   "outputs": [
    {
     "name": "stdout",
     "output_type": "stream",
     "text": [
      "<class 'pandas.core.frame.DataFrame'>\n",
      "RangeIndex: 72637 entries, 0 to 72636\n",
      "Data columns (total 3 columns):\n",
      " #   Column            Non-Null Count  Dtype \n",
      "---  ------            --------------  ----- \n",
      " 0   LYLTY_CARD_NBR    72637 non-null  int64 \n",
      " 1   LIFESTAGE         72637 non-null  object\n",
      " 2   PREMIUM_CUSTOMER  72637 non-null  object\n",
      "dtypes: int64(1), object(2)\n",
      "memory usage: 1.7+ MB\n"
     ]
    }
   ],
   "source": [
    "# checking the properties of the data\n",
    "customerData.info()"
   ]
  },
  {
   "cell_type": "code",
   "execution_count": 8,
   "id": "76f6d5c2",
   "metadata": {},
   "outputs": [
    {
     "data": {
      "text/plain": [
       "LYLTY_CARD_NBR      0\n",
       "LIFESTAGE           0\n",
       "PREMIUM_CUSTOMER    0\n",
       "dtype: int64"
      ]
     },
     "execution_count": 8,
     "metadata": {},
     "output_type": "execute_result"
    }
   ],
   "source": [
    "# checking for missing values\n",
    "customerData.isna().sum()"
   ]
  },
  {
   "cell_type": "code",
   "execution_count": 9,
   "id": "47e2abdb",
   "metadata": {},
   "outputs": [
    {
     "name": "stdout",
     "output_type": "stream",
     "text": [
      "Duplicates in the data: 0\n"
     ]
    },
    {
     "data": {
      "text/html": [
       "<div>\n",
       "<style scoped>\n",
       "    .dataframe tbody tr th:only-of-type {\n",
       "        vertical-align: middle;\n",
       "    }\n",
       "\n",
       "    .dataframe tbody tr th {\n",
       "        vertical-align: top;\n",
       "    }\n",
       "\n",
       "    .dataframe thead th {\n",
       "        text-align: right;\n",
       "    }\n",
       "</style>\n",
       "<table border=\"1\" class=\"dataframe\">\n",
       "  <thead>\n",
       "    <tr style=\"text-align: right;\">\n",
       "      <th></th>\n",
       "      <th>LYLTY_CARD_NBR</th>\n",
       "      <th>LIFESTAGE</th>\n",
       "      <th>PREMIUM_CUSTOMER</th>\n",
       "    </tr>\n",
       "  </thead>\n",
       "  <tbody>\n",
       "  </tbody>\n",
       "</table>\n",
       "</div>"
      ],
      "text/plain": [
       "Empty DataFrame\n",
       "Columns: [LYLTY_CARD_NBR, LIFESTAGE, PREMIUM_CUSTOMER]\n",
       "Index: []"
      ]
     },
     "execution_count": 9,
     "metadata": {},
     "output_type": "execute_result"
    }
   ],
   "source": [
    "# Inspecting for duplicates \n",
    "print('Duplicates in the data:', customerData.duplicated().sum())\n",
    "customerData[customerData.duplicated()]"
   ]
  },
  {
   "cell_type": "code",
   "execution_count": 10,
   "id": "0fc6ebc9",
   "metadata": {
    "scrolled": true
   },
   "outputs": [
    {
     "name": "stdout",
     "output_type": "stream",
     "text": [
      "LYLTY_CARD_NBR [   1000    1002    1003 ... 2370751 2370961 2373711]\n",
      "\n",
      "LIFESTAGE ['YOUNG SINGLES/COUPLES' 'YOUNG FAMILIES' 'OLDER SINGLES/COUPLES'\n",
      " 'MIDAGE SINGLES/COUPLES' 'NEW FAMILIES' 'OLDER FAMILIES' 'RETIREES']\n",
      "\n",
      "PREMIUM_CUSTOMER ['Premium' 'Mainstream' 'Budget']\n",
      "\n"
     ]
    }
   ],
   "source": [
    "# checking for the unique values in each column in the data, and by extention, checking mislabeling & incorrect data entry\n",
    "cols = customerData.columns\n",
    "for col in cols:\n",
    "    print(col, customerData[col].unique())\n",
    "    print()"
   ]
  },
  {
   "cell_type": "code",
   "execution_count": 11,
   "id": "e00f1a63",
   "metadata": {},
   "outputs": [
    {
     "data": {
      "text/plain": [
       "<AxesSubplot:ylabel='Density'>"
      ]
     },
     "execution_count": 11,
     "metadata": {},
     "output_type": "execute_result"
    },
    {
     "data": {
      "image/png": "[encoded data removed]",
      "text/plain": [
       "<Figure size 432x288 with 1 Axes>"
      ]
     },
     "metadata": {
      "needs_background": "light"
     },
     "output_type": "display_data"
    }
   ],
   "source": [
    "# checking for distribution in the numeric column\n",
    "customerData.LYLTY_CARD_NBR.plot(kind = 'density')"
   ]
  },
  {
   "cell_type": "code",
   "execution_count": 12,
   "id": "1838d832",
   "metadata": {},
   "outputs": [
    {
     "name": "stderr",
     "output_type": "stream",
     "text": [
      "C:\\Users\\Lawre\\anaconda3\\lib\\site-packages\\seaborn\\_decorators.py:36: FutureWarning: Pass the following variable as a keyword arg: x. From version 0.12, the only valid positional argument will be `data`, and passing other arguments without an explicit keyword will result in an error or misinterpretation.\n",
      "  warnings.warn(\n"
     ]
    },
    {
     "data": {
      "text/plain": [
       "<AxesSubplot:xlabel='LYLTY_CARD_NBR'>"
      ]
     },
     "execution_count": 12,
     "metadata": {},
     "output_type": "execute_result"
    },
    {
     "data": {
      "image/png": "[encoded data removed]",
      "text/plain": [
       "<Figure size 432x288 with 1 Axes>"
      ]
     },
     "metadata": {
      "needs_background": "light"
     },
     "output_type": "display_data"
    }
   ],
   "source": [
    "# inspecting for outliers\n",
    "sns.boxplot(customerData.LYLTY_CARD_NBR)"
   ]
  },
  {
   "cell_type": "markdown",
   "id": "f84a66d6",
   "metadata": {},
   "source": [
    "Inference from Customer behaviour data:\n",
    "    * there are 72637 rows and 3 columns in the data with two objects and one int as datatypes\n",
    "    * there are no missing values in the data. All cells have an entry in them\n",
    "    * there are no duplicates in the data\n",
    "    * No occurences of datatype mismatch and spurious data entry or label variations in the data \n",
    "    * However, there are presence of outliers in the 'LYLTY_CARD_NBR' column. No treatment needed as \n",
    "    the column exist in the transaction data."
   ]
  },
  {
   "cell_type": "markdown",
   "id": "36767d9e",
   "metadata": {},
   "source": [
    "# Exploratory Data analysis on the Transaction Data"
   ]
  },
  {
   "cell_type": "code",
   "execution_count": 13,
   "id": "0e78d64b",
   "metadata": {},
   "outputs": [
    {
     "data": {
      "text/plain": [
       "(264836, 8)"
      ]
     },
     "execution_count": 13,
     "metadata": {},
     "output_type": "execute_result"
    }
   ],
   "source": [
    "# checking the shape of the data\n",
    "transactionData.shape"
   ]
  },
  {
   "cell_type": "code",
   "execution_count": 14,
   "id": "e265150d",
   "metadata": {},
   "outputs": [
    {
     "name": "stdout",
     "output_type": "stream",
     "text": [
      "<class 'pandas.core.frame.DataFrame'>\n",
      "RangeIndex: 264836 entries, 0 to 264835\n",
      "Data columns (total 8 columns):\n",
      " #   Column          Non-Null Count   Dtype  \n",
      "---  ------          --------------   -----  \n",
      " 0   DATE            264836 non-null  int64  \n",
      " 1   STORE_NBR       264836 non-null  int64  \n",
      " 2   LYLTY_CARD_NBR  264836 non-null  int64  \n",
      " 3   TXN_ID          264836 non-null  int64  \n",
      " 4   PROD_NBR        264836 non-null  int64  \n",
      " 5   PROD_NAME       264836 non-null  object \n",
      " 6   PROD_QTY        264836 non-null  int64  \n",
      " 7   TOT_SALES       264836 non-null  float64\n",
      "dtypes: float64(1), int64(6), object(1)\n",
      "memory usage: 16.2+ MB\n"
     ]
    }
   ],
   "source": [
    "# checking the properties of the data\n",
    "transactionData.info()"
   ]
  },
  {
   "cell_type": "code",
   "execution_count": 15,
   "id": "972d8460",
   "metadata": {},
   "outputs": [
    {
     "data": {
      "text/plain": [
       "DATE              0\n",
       "STORE_NBR         0\n",
       "LYLTY_CARD_NBR    0\n",
       "TXN_ID            0\n",
       "PROD_NBR          0\n",
       "PROD_NAME         0\n",
       "PROD_QTY          0\n",
       "TOT_SALES         0\n",
       "dtype: int64"
      ]
     },
     "execution_count": 15,
     "metadata": {},
     "output_type": "execute_result"
    }
   ],
   "source": [
    "# checking for missing values in the data\n",
    "transactionData.isna().sum()"
   ]
  },
  {
   "cell_type": "code",
   "execution_count": 16,
   "id": "732f5c42",
   "metadata": {},
   "outputs": [
    {
     "name": "stdout",
     "output_type": "stream",
     "text": [
      "Total duplicates in the data: 1\n"
     ]
    },
    {
     "data": {
      "text/html": [
       "<div>\n",
       "<style scoped>\n",
       "    .dataframe tbody tr th:only-of-type {\n",
       "        vertical-align: middle;\n",
       "    }\n",
       "\n",
       "    .dataframe tbody tr th {\n",
       "        vertical-align: top;\n",
       "    }\n",
       "\n",
       "    .dataframe thead th {\n",
       "        text-align: right;\n",
       "    }\n",
       "</style>\n",
       "<table border=\"1\" class=\"dataframe\">\n",
       "  <thead>\n",
       "    <tr style=\"text-align: right;\">\n",
       "      <th></th>\n",
       "      <th>DATE</th>\n",
       "      <th>STORE_NBR</th>\n",
       "      <th>LYLTY_CARD_NBR</th>\n",
       "      <th>TXN_ID</th>\n",
       "      <th>PROD_NBR</th>\n",
       "      <th>PROD_NAME</th>\n",
       "      <th>PROD_QTY</th>\n",
       "      <th>TOT_SALES</th>\n",
       "    </tr>\n",
       "  </thead>\n",
       "  <tbody>\n",
       "    <tr>\n",
       "      <th>124845</th>\n",
       "      <td>43374</td>\n",
       "      <td>107</td>\n",
       "      <td>107024</td>\n",
       "      <td>108462</td>\n",
       "      <td>45</td>\n",
       "      <td>Smiths Thinly Cut   Roast Chicken 175g</td>\n",
       "      <td>2</td>\n",
       "      <td>6.0</td>\n",
       "    </tr>\n",
       "  </tbody>\n",
       "</table>\n",
       "</div>"
      ],
      "text/plain": [
       "         DATE  STORE_NBR  LYLTY_CARD_NBR  TXN_ID  PROD_NBR  \\\n",
       "124845  43374        107          107024  108462        45   \n",
       "\n",
       "                                     PROD_NAME  PROD_QTY  TOT_SALES  \n",
       "124845  Smiths Thinly Cut   Roast Chicken 175g         2        6.0  "
      ]
     },
     "execution_count": 16,
     "metadata": {},
     "output_type": "execute_result"
    }
   ],
   "source": [
    "# inspecting for duplicates \n",
    "print('Total duplicates in the data:', transactionData.duplicated().sum())\n",
    "transactionData[transactionData.duplicated()]"
   ]
  },
  {
   "cell_type": "code",
   "execution_count": 17,
   "id": "bfd7d2fb",
   "metadata": {},
   "outputs": [
    {
     "name": "stdout",
     "output_type": "stream",
     "text": [
      "DATE [43390 43599 43605 43329 43330 43604 43601 43332 43602 43603 43600 43326\n",
      " 43328 43331 43327 43633 43348 43370 43523 43543 43632 43429 43414 43533\n",
      " 43405 43537 43561 43311 43391 43409 43528 43535 43576 43468 43366 43624\n",
      " 43313 43448 43587 43474 43566 43529 43369 43554 43519 43451 43564 43563\n",
      " 43382 43407 43489 43510 43627 43284 43299 43309 43552 43593 43611 43526\n",
      " 43578 43584 43357 43494 43547 43550 43318 43467 43555 43294 43386 43496\n",
      " 43504 43520 43583 43321 43446 43568 43643 43646 43287 43562 43423 43434\n",
      " 43479 43333 43508 43634 43436 43458 43463 43579 43620 43622 43345 43361\n",
      " 43482 43617 43625 43288 43352 43360 43404 43290 43323 43363 43399 43402\n",
      " 43551 43556 43365 43367 43439 43518 43539 43639 43292 43395 43450 43462\n",
      " 43503 43336 43375 43381 43534 43644 43295 43509 43325 43400 43443 43502\n",
      " 43607 43302 43387 43412 43536 43424 43499 43515 43608 43308 43428 43484\n",
      " 43316 43470 43572 43355 43481 43571 43344 43590 43475 43507 43641 43531\n",
      " 43430 43389 43438 43306 43408 43419 43615 43301 43317 43452 43606 43454\n",
      " 43485 43637 43319 43349 43350 43445 43582 43298 43351 43457 43532 43283\n",
      " 43340 43455 43497 43540 43631 43437 43444 43303 43374 43589 43591 43456\n",
      " 43538 43285 43435 43477 43619 43322 43376 43358 43464 43418 43417 43553\n",
      " 43569 43394 43420 43293 43384 43506 43613 43616 43315 43460 43565 43645\n",
      " 43483 43609 43567 43337 43422 43635 43542 43594 43433 43426 43525 43585\n",
      " 43573 43597 43286 43385 43413 43546 43441 43478 43342 43364 43472 43618\n",
      " 43373 43449 43415 43396 43416 43410 43498 43548 43398 43480 43339 43378\n",
      " 43388 43500 43610 43588 43530 43621 43491 43307 43300 43581 43392 43406\n",
      " 43596 43490 43353 43431 43522 43312 43427 43487 43559 43383 43466 43453\n",
      " 43516 43359 43521 43628 43393 43324 43501 43544 43421 43403 43304 43347\n",
      " 43541 43447 43343 43397 43297 43368 43461 43545 43469 43305 43575 43334\n",
      " 43314 43524 43514 43356 43574 43411 43626 43549 43640 43440 43362 43492\n",
      " 43517 43570 43310 43558 43623 43282 43341 43335 43401 43289 43379 43513\n",
      " 43371 43471 43638 43486 43614 43629 43557 43592 43338 43511 43432 43493\n",
      " 43598 43380 43642 43473 43291 43612 43320 43586 43354 43527 43580 43296\n",
      " 43636 43512 43377 43372 43560 43465 43488 43577 43630 43476 43346 43425\n",
      " 43595 43442 43495 43505]\n",
      "\n",
      "STORE_NBR [  1   2   4   5   7   8   9  13  19  20  22  23  25  33  36  38  39  41\n",
      "  43  45  51  54  55  56  58  59  60  62  63  67  71  72  74  75  80  81\n",
      "  82  83  84  88  94  96  97 101 102 104 106 109 110 111 112 114 115 116\n",
      " 118 119 120 122 125 128 129 130 133 149 151 152 153 156 157 160 161 164\n",
      " 166 167 168 169 172 173 175 178 181 184 186 187 191 194 196 197 200 205\n",
      " 207 208 209 212 214 215 216 217 219 222 223 225 226 227 235 236 237 241\n",
      " 243 246 247 248 250 253 255 256 257 262 265 266 269 271  77   3   6  10\n",
      "  12  15  16  17  18  21  24  26  27  28  29  30  32  34  35  37  40  46\n",
      "  47  48  49  50  52  53  57  61  64  65  66  68  69  70  73  78  79  86\n",
      "  87  89  90  91  93  95  98 100 103 105 107 108 113 117 121 123 124 126\n",
      " 127 131 132 134 135 136 137 138 140 141 142 143 144 145 147 148 150 154\n",
      " 155 158 162 163 165 170 171 174 176 177 179 180 182 183 185 188 189 190\n",
      " 192 195 199 201 202 203 210 213 218 220 221 224 228 229 230 231 232 233\n",
      " 234 238 239 240 242 244 245 249 251 254 259 260 261 263 264 267 268 270\n",
      " 272  14  42  44  92  99 139 146 159 198 204 258 211  31  85  76  11 252\n",
      " 193 206]\n",
      "\n",
      "LYLTY_CARD_NBR [  1000   1307   1343 ... 272358 272379 272380]\n",
      "\n",
      "TXN_ID [     1    348    383 ... 270187 270188 270189]\n",
      "\n",
      "PROD_NBR [  5  66  61  69 108  57  16  24  42  52 114  15  92  44  54  94  98  93\n",
      "  56   7  31  32 111  46  13  99  26  64  22  48  37  36  51 107 106   4\n",
      " 113  45  39 102 104   3  82  88  40  73  87  84  70  89 101  63  25  47\n",
      "  71  65  33  35  12   8  75 100  29  59  30  81  67 110  28   2  14  77\n",
      "  17  83  68  96  79  23  50  78   1  86  53  72  74  76   9  91 105  90\n",
      " 109  27  62 112  55  18  34  49  60  38 103  85  95  97  20  19  21   6\n",
      "  80  58  10  11  43  41]\n",
      "\n",
      "PROD_NAME ['Natural Chip        Compny SeaSalt175g' 'CCs Nacho Cheese    175g'\n",
      " 'Smiths Crinkle Cut  Chips Chicken 170g'\n",
      " 'Smiths Chip Thinly  S/Cream&Onion 175g'\n",
      " 'Kettle Tortilla ChpsHny&Jlpno Chili 150g'\n",
      " 'Old El Paso Salsa   Dip Tomato Mild 300g'\n",
      " 'Smiths Crinkle Chips Salt & Vinegar 330g'\n",
      " 'Grain Waves         Sweet Chilli 210g'\n",
      " 'Doritos Corn Chip Mexican Jalapeno 150g'\n",
      " 'Grain Waves Sour    Cream&Chives 210G'\n",
      " 'Kettle Sensations   Siracha Lime 150g' 'Twisties Cheese     270g'\n",
      " 'WW Crinkle Cut      Chicken 175g' 'Thins Chips Light&  Tangy 175g'\n",
      " 'CCs Original 175g' 'Burger Rings 220g'\n",
      " 'NCC Sour Cream &    Garden Chives 175g'\n",
      " 'Doritos Corn Chip Southern Chicken 150g' 'Cheezels Cheese Box 125g'\n",
      " 'Smiths Crinkle      Original 330g'\n",
      " 'Infzns Crn Crnchers Tangy Gcamole 110g'\n",
      " 'Kettle Sea Salt     And Vinegar 175g'\n",
      " 'Smiths Chip Thinly  Cut Original 175g' 'Kettle Original 175g'\n",
      " 'Red Rock Deli Thai  Chilli&Lime 150g' 'Pringles Sthrn FriedChicken 134g'\n",
      " 'Pringles Sweet&Spcy BBQ 134g' 'Red Rock Deli SR    Salsa & Mzzrlla 150g'\n",
      " 'Thins Chips         Originl saltd 175g'\n",
      " 'Red Rock Deli Sp    Salt & Truffle 150G'\n",
      " 'Smiths Thinly       Swt Chli&S/Cream175G' 'Kettle Chilli 175g'\n",
      " 'Doritos Mexicana    170g' 'Smiths Crinkle Cut  French OnionDip 150g'\n",
      " 'Natural ChipCo      Hony Soy Chckn175g'\n",
      " 'Dorito Corn Chp     Supreme 380g' 'Twisties Chicken270g'\n",
      " 'Smiths Thinly Cut   Roast Chicken 175g'\n",
      " 'Smiths Crinkle Cut  Tomato Salsa 150g'\n",
      " 'Kettle Mozzarella   Basil & Pesto 175g'\n",
      " 'Infuzions Thai SweetChili PotatoMix 110g'\n",
      " 'Kettle Sensations   Camembert & Fig 150g'\n",
      " 'Smith Crinkle Cut   Mac N Cheese 150g'\n",
      " 'Kettle Honey Soy    Chicken 175g' 'Thins Chips Seasonedchicken 175g'\n",
      " 'Smiths Crinkle Cut  Salt & Vinegar 170g'\n",
      " 'Infuzions BBQ Rib   Prawn Crackers 110g'\n",
      " 'GrnWves Plus Btroot & Chilli Jam 180g'\n",
      " 'Tyrrells Crisps     Lightly Salted 165g'\n",
      " 'Kettle Sweet Chilli And Sour Cream 175g'\n",
      " 'Doritos Salsa       Medium 300g' 'Kettle 135g Swt Pot Sea Salt'\n",
      " 'Pringles SourCream  Onion 134g' 'Doritos Corn Chips  Original 170g'\n",
      " 'Twisties Cheese     Burger 250g'\n",
      " 'Old El Paso Salsa   Dip Chnky Tom Ht300g'\n",
      " 'Cobs Popd Swt/Chlli &Sr/Cream Chips 110g'\n",
      " 'Woolworths Mild     Salsa 300g'\n",
      " 'Natural Chip Co     Tmato Hrb&Spce 175g'\n",
      " 'Smiths Crinkle Cut  Chips Original 170g'\n",
      " 'Cobs Popd Sea Salt  Chips 110g'\n",
      " 'Smiths Crinkle Cut  Chips Chs&Onion170g'\n",
      " 'French Fries Potato Chips 175g'\n",
      " 'Old El Paso Salsa   Dip Tomato Med 300g'\n",
      " 'Doritos Corn Chips  Cheese Supreme 170g'\n",
      " 'Pringles Original   Crisps 134g' 'RRD Chilli&         Coconut 150g'\n",
      " 'WW Original Corn    Chips 200g' 'Thins Potato Chips  Hot & Spicy 175g'\n",
      " 'Cobs Popd Sour Crm  &Chives Chips 110g'\n",
      " 'Smiths Crnkle Chip  Orgnl Big Bag 380g'\n",
      " 'Doritos Corn Chips  Nacho Cheese 170g'\n",
      " 'Kettle Sensations   BBQ&Maple 150g' 'WW D/Style Chip     Sea Salt 200g'\n",
      " 'Pringles Chicken    Salt Crips 134g' 'WW Original Stacked Chips 160g'\n",
      " 'Smiths Chip Thinly  CutSalt/Vinegr175g' 'Cheezels Cheese 330g'\n",
      " 'Tostitos Lightly    Salted 175g' 'Thins Chips Salt &  Vinegar 175g'\n",
      " 'Smiths Crinkle Cut  Chips Barbecue 170g' 'Cheetos Puffs 165g'\n",
      " 'RRD Sweet Chilli &  Sour Cream 165g' 'WW Crinkle Cut      Original 175g'\n",
      " 'Tostitos Splash Of  Lime 175g' 'Woolworths Medium   Salsa 300g'\n",
      " 'Kettle Tortilla ChpsBtroot&Ricotta 150g' 'CCs Tasty Cheese    175g'\n",
      " 'Woolworths Cheese   Rings 190g' 'Tostitos Smoked     Chipotle 175g'\n",
      " 'Pringles Barbeque   134g' 'WW Supreme Cheese   Corn Chips 200g'\n",
      " 'Pringles Mystery    Flavour 134g'\n",
      " 'Tyrrells Crisps     Ched & Chives 165g'\n",
      " 'Snbts Whlgrn Crisps Cheddr&Mstrd 90g' 'Cheetos Chs & Bacon Balls 190g'\n",
      " 'Pringles Slt Vingar 134g' 'Infuzions SourCream&Herbs Veg Strws 110g'\n",
      " 'Kettle Tortilla ChpsFeta&Garlic 150g'\n",
      " 'Infuzions Mango     Chutny Papadums 70g'\n",
      " 'RRD Steak &         Chimuchurri 150g' 'RRD Honey Soy       Chicken 165g'\n",
      " 'Sunbites Whlegrn    Crisps Frch/Onin 90g' 'RRD Salt & Vinegar  165g'\n",
      " 'Doritos Cheese      Supreme 330g' 'Smiths Crinkle Cut  Snag&Sauce 150g'\n",
      " 'WW Sour Cream &OnionStacked Chips 160g' 'RRD Lime & Pepper   165g'\n",
      " 'Natural ChipCo Sea  Salt & Vinegr 175g'\n",
      " 'Red Rock Deli Chikn&Garlic Aioli 150g'\n",
      " 'RRD SR Slow Rst     Pork Belly 150g' 'RRD Pc Sea Salt     165g'\n",
      " 'Smith Crinkle Cut   Bolognese 150g' 'Doritos Salsa Mild  300g']\n",
      "\n",
      "PROD_QTY [  2   3   5   1   4 200]\n",
      "\n",
      "TOT_SALES [  6.     6.3    2.9   15.    13.8    5.1    5.7    3.6    3.9    7.2\n",
      "  23.     9.2    1.7    3.3    2.1    3.     3.8    5.4    2.7    3.7\n",
      "  14.8    4.4    6.6    2.6    3.25   4.6    5.8   15.5    7.8    4.2\n",
      "   7.4    7.6    8.4    6.5    4.3   28.5    7.5    3.4   19.    11.8\n",
      "  17.6    9.    13.2    1.9   10.2   13.    15.2   11.4   14.5    5.6\n",
      "  10.8   10.4    1.5   16.5    1.8    5.2    5.9   18.4    8.8   18.5\n",
      "   6.2    4.8    8.6    2.8    2.3    3.1    2.4   15.6   19.5   27.\n",
      "   9.9   16.2   13.5   21.6   23.6   29.5   12.6    8.1   15.3   11.1\n",
      "  22.     9.5   16.25  20.4   11.7   22.8    9.6    8.5   10.5   21.\n",
      "  12.    14.4    9.75  16.8   25.5   17.7   17.2   17.1    4.5    6.8\n",
      "  18.    12.9   11.5    8.7   14.    11.6   12.4  650.    21.5    9.3\n",
      "  11.2    6.9 ]\n",
      "\n"
     ]
    }
   ],
   "source": [
    "# checking for unique labels in all columns in the data. This also checks for mislabelling and incorrect data entry\n",
    "colss = transactionData.columns\n",
    "for col in colss:\n",
    "    print(col, transactionData[col].unique())\n",
    "    print()"
   ]
  },
  {
   "cell_type": "code",
   "execution_count": 18,
   "id": "199088c4",
   "metadata": {},
   "outputs": [
    {
     "data": {
      "image/png": "[encoded data removed]",
      "text/plain": [
       "<Figure size 720x1080 with 12 Axes>"
      ]
     },
     "metadata": {
      "needs_background": "light"
     },
     "output_type": "display_data"
    }
   ],
   "source": [
    "# checking for distributions in the numeric columns in the data\n",
    "transactionData.plot(kind='density', subplots=True, layout=(3,4), sharex=False, sharey=False)\n",
    "plt.gcf().set_size_inches(10,15)\n",
    "plt.show()"
   ]
  },
  {
   "cell_type": "code",
   "execution_count": 19,
   "id": "afddb1d2",
   "metadata": {},
   "outputs": [
    {
     "data": {
      "image/png": "[encoded data removed]",
      "text/plain": [
       "<Figure size 720x1080 with 12 Axes>"
      ]
     },
     "metadata": {
      "needs_background": "light"
     },
     "output_type": "display_data"
    }
   ],
   "source": [
    "# inspecting for outliers in all the numeric columns in the data using boxplot\n",
    "transactionData.plot(kind='box', subplots=True, layout=(3,4), sharex=False, sharey=False)\n",
    "plt.gcf().set_size_inches(10,15)\n",
    "plt.show()"
   ]
  },
  {
   "cell_type": "markdown",
   "id": "8d0d033e",
   "metadata": {},
   "source": [
    "Inference from the tranaction data:\n",
    "    * there are 264836 rows and 8 columns in the data with one objects, six ints and one float as datatypes\n",
    "    * the DATE column is in excel numerical values. Conversion to proper datetime needed.\n",
    "    * there are no missing values in the data. All cells have an entry in them\n",
    "    * there is one occurence of duplicates in the data\n",
    "    * No occurences of datatype mismatch and spurious data entry or label variations in the categorical variables \n",
    "    * there are presence of outliers in the four columns. Treatment for outliers needed."
   ]
  },
  {
   "cell_type": "code",
   "execution_count": 20,
   "id": "c2e1c208",
   "metadata": {},
   "outputs": [],
   "source": [
    "# dropping the duplicates in the data\n",
    "transactionData.drop_duplicates(keep= 'first', inplace=True)"
   ]
  },
  {
   "cell_type": "code",
   "execution_count": 21,
   "id": "0482924b",
   "metadata": {},
   "outputs": [
    {
     "data": {
      "text/html": [
       "<div>\n",
       "<style scoped>\n",
       "    .dataframe tbody tr th:only-of-type {\n",
       "        vertical-align: middle;\n",
       "    }\n",
       "\n",
       "    .dataframe tbody tr th {\n",
       "        vertical-align: top;\n",
       "    }\n",
       "\n",
       "    .dataframe thead th {\n",
       "        text-align: right;\n",
       "    }\n",
       "</style>\n",
       "<table border=\"1\" class=\"dataframe\">\n",
       "  <thead>\n",
       "    <tr style=\"text-align: right;\">\n",
       "      <th></th>\n",
       "      <th>DATE</th>\n",
       "      <th>STORE_NBR</th>\n",
       "      <th>LYLTY_CARD_NBR</th>\n",
       "      <th>TXN_ID</th>\n",
       "      <th>PROD_NBR</th>\n",
       "      <th>PROD_NAME</th>\n",
       "      <th>PROD_QTY</th>\n",
       "      <th>TOT_SALES</th>\n",
       "    </tr>\n",
       "  </thead>\n",
       "  <tbody>\n",
       "  </tbody>\n",
       "</table>\n",
       "</div>"
      ],
      "text/plain": [
       "Empty DataFrame\n",
       "Columns: [DATE, STORE_NBR, LYLTY_CARD_NBR, TXN_ID, PROD_NBR, PROD_NAME, PROD_QTY, TOT_SALES]\n",
       "Index: []"
      ]
     },
     "execution_count": 21,
     "metadata": {},
     "output_type": "execute_result"
    }
   ],
   "source": [
    "# cross checking after dropping the duplicates in the data\n",
    "transactionData[transactionData.duplicated()]"
   ]
  },
  {
   "cell_type": "code",
   "execution_count": 22,
   "id": "51dca9e2",
   "metadata": {},
   "outputs": [],
   "source": [
    "# converting numerical values to proper date format\n",
    "def convert_excel_date(x):\n",
    "    base_date = datetime(1899, 12, 30)\n",
    "    return base_date + timedelta(days=int(x))\n",
    "\n",
    "transactionData['DATE'] = transactionData['DATE'].apply(convert_excel_date)"
   ]
  },
  {
   "cell_type": "code",
   "execution_count": 23,
   "id": "4337dab7",
   "metadata": {},
   "outputs": [
    {
     "data": {
      "text/html": [
       "<div>\n",
       "<style scoped>\n",
       "    .dataframe tbody tr th:only-of-type {\n",
       "        vertical-align: middle;\n",
       "    }\n",
       "\n",
       "    .dataframe tbody tr th {\n",
       "        vertical-align: top;\n",
       "    }\n",
       "\n",
       "    .dataframe thead th {\n",
       "        text-align: right;\n",
       "    }\n",
       "</style>\n",
       "<table border=\"1\" class=\"dataframe\">\n",
       "  <thead>\n",
       "    <tr style=\"text-align: right;\">\n",
       "      <th></th>\n",
       "      <th>PROD_NAME</th>\n",
       "      <th>Count</th>\n",
       "    </tr>\n",
       "  </thead>\n",
       "  <tbody>\n",
       "    <tr>\n",
       "      <th>0</th>\n",
       "      <td>Kettle Mozzarella   Basil &amp; Pesto 175g</td>\n",
       "      <td>3304</td>\n",
       "    </tr>\n",
       "    <tr>\n",
       "      <th>1</th>\n",
       "      <td>Kettle Tortilla ChpsHny&amp;Jlpno Chili 150g</td>\n",
       "      <td>3296</td>\n",
       "    </tr>\n",
       "    <tr>\n",
       "      <th>2</th>\n",
       "      <td>Cobs Popd Swt/Chlli &amp;Sr/Cream Chips 110g</td>\n",
       "      <td>3269</td>\n",
       "    </tr>\n",
       "    <tr>\n",
       "      <th>3</th>\n",
       "      <td>Tyrrells Crisps     Ched &amp; Chives 165g</td>\n",
       "      <td>3268</td>\n",
       "    </tr>\n",
       "    <tr>\n",
       "      <th>4</th>\n",
       "      <td>Cobs Popd Sea Salt  Chips 110g</td>\n",
       "      <td>3265</td>\n",
       "    </tr>\n",
       "    <tr>\n",
       "      <th>...</th>\n",
       "      <td>...</td>\n",
       "      <td>...</td>\n",
       "    </tr>\n",
       "    <tr>\n",
       "      <th>109</th>\n",
       "      <td>RRD Pc Sea Salt     165g</td>\n",
       "      <td>1431</td>\n",
       "    </tr>\n",
       "    <tr>\n",
       "      <th>110</th>\n",
       "      <td>Woolworths Medium   Salsa 300g</td>\n",
       "      <td>1430</td>\n",
       "    </tr>\n",
       "    <tr>\n",
       "      <th>111</th>\n",
       "      <td>NCC Sour Cream &amp;    Garden Chives 175g</td>\n",
       "      <td>1419</td>\n",
       "    </tr>\n",
       "    <tr>\n",
       "      <th>112</th>\n",
       "      <td>French Fries Potato Chips 175g</td>\n",
       "      <td>1418</td>\n",
       "    </tr>\n",
       "    <tr>\n",
       "      <th>113</th>\n",
       "      <td>WW Crinkle Cut      Original 175g</td>\n",
       "      <td>1410</td>\n",
       "    </tr>\n",
       "  </tbody>\n",
       "</table>\n",
       "<p>114 rows × 2 columns</p>\n",
       "</div>"
      ],
      "text/plain": [
       "                                    PROD_NAME  Count\n",
       "0      Kettle Mozzarella   Basil & Pesto 175g   3304\n",
       "1    Kettle Tortilla ChpsHny&Jlpno Chili 150g   3296\n",
       "2    Cobs Popd Swt/Chlli &Sr/Cream Chips 110g   3269\n",
       "3      Tyrrells Crisps     Ched & Chives 165g   3268\n",
       "4              Cobs Popd Sea Salt  Chips 110g   3265\n",
       "..                                        ...    ...\n",
       "109                  RRD Pc Sea Salt     165g   1431\n",
       "110            Woolworths Medium   Salsa 300g   1430\n",
       "111    NCC Sour Cream &    Garden Chives 175g   1419\n",
       "112            French Fries Potato Chips 175g   1418\n",
       "113         WW Crinkle Cut      Original 175g   1410\n",
       "\n",
       "[114 rows x 2 columns]"
      ]
     },
     "execution_count": 23,
     "metadata": {},
     "output_type": "execute_result"
    }
   ],
   "source": [
    "# cleaning required for the prod_name columns before using it for brand feature engineering.\n",
    "# examining the values of PROD_NAME and their counts\n",
    "prod_name_counts = transactionData['PROD_NAME'].value_counts().reset_index()\n",
    "prod_name_counts.columns = ['PROD_NAME', 'Count']\n",
    "prod_name_counts"
   ]
  },
  {
   "cell_type": "code",
   "execution_count": 24,
   "id": "91230735",
   "metadata": {},
   "outputs": [
    {
     "name": "stdout",
     "output_type": "stream",
     "text": [
      "           words\n",
      "0        Natural\n",
      "1           Chip\n",
      "2         Compny\n",
      "3    SeaSalt175g\n",
      "4            CCs\n",
      "..           ...\n",
      "584         150g\n",
      "585      Doritos\n",
      "586        Salsa\n",
      "587         Mild\n",
      "588         300g\n",
      "\n",
      "[589 rows x 1 columns]\n"
     ]
    }
   ],
   "source": [
    "# creating a list of unique words from PROD_NAME\n",
    "unique_product_names = transactionData['PROD_NAME'].unique()\n",
    "product_words = []\n",
    "for name in unique_product_names:\n",
    "    product_words.extend(name.split())\n",
    "\n",
    "# creating a DataFrame with the list of product words\n",
    "product_words_df = pd.DataFrame(product_words, columns=['words'])\n",
    "\n",
    "print(product_words_df)"
   ]
  },
  {
   "cell_type": "code",
   "execution_count": 25,
   "id": "4f18c74f",
   "metadata": {},
   "outputs": [
    {
     "name": "stdout",
     "output_type": "stream",
     "text": [
      "          word  frequency\n",
      "0        Chips         21\n",
      "1       Smiths         16\n",
      "2      Crinkle         14\n",
      "3          Cut         14\n",
      "4       Kettle         13\n",
      "..         ...        ...\n",
      "99      Vingar          1\n",
      "98         Veg          1\n",
      "97       Strws          1\n",
      "96       Mango          1\n",
      "167  Bolognese          1\n",
      "\n",
      "[168 rows x 2 columns]\n"
     ]
    }
   ],
   "source": [
    "# removing digits\n",
    "product_words_df = product_words_df[~product_words_df['words'].str.contains(r'\\d')]\n",
    "\n",
    "# removing special characters\n",
    "product_words_df = product_words_df[product_words_df['words'].str.match(r'^[a-zA-Z]+$')]\n",
    "\n",
    "# counting the frequency of words and sorting by frequency in descending order\n",
    "word_frequencies = product_words_df['words'].value_counts().reset_index()\n",
    "word_frequencies.columns = ['word', 'frequency']\n",
    "word_frequencies = word_frequencies.sort_values(by='frequency', ascending=False)\n",
    "\n",
    "print(word_frequencies)"
   ]
  },
  {
   "cell_type": "code",
   "execution_count": 26,
   "id": "1cfa4689",
   "metadata": {},
   "outputs": [
    {
     "name": "stdout",
     "output_type": "stream",
     "text": [
      "             DATE  STORE_NBR  LYLTY_CARD_NBR  TXN_ID  PROD_NBR  \\\n",
      "0      2018-10-17          1            1000       1         5   \n",
      "1      2019-05-14          1            1307     348        66   \n",
      "2      2019-05-20          1            1343     383        61   \n",
      "3      2018-08-17          2            2373     974        69   \n",
      "4      2018-08-18          2            2426    1038       108   \n",
      "...           ...        ...             ...     ...       ...   \n",
      "264831 2019-03-09        272          272319  270088        89   \n",
      "264832 2018-08-13        272          272358  270154        74   \n",
      "264833 2018-11-06        272          272379  270187        51   \n",
      "264834 2018-12-27        272          272379  270188        42   \n",
      "264835 2018-09-22        272          272380  270189        74   \n",
      "\n",
      "                                       PROD_NAME  PROD_QTY  TOT_SALES  \n",
      "0         Natural Chip        Compny SeaSalt175g         2        6.0  \n",
      "1                       CCs Nacho Cheese    175g         3        6.3  \n",
      "2         Smiths Crinkle Cut  Chips Chicken 170g         2        2.9  \n",
      "3         Smiths Chip Thinly  S/Cream&Onion 175g         5       15.0  \n",
      "4       Kettle Tortilla ChpsHny&Jlpno Chili 150g         3       13.8  \n",
      "...                                          ...       ...        ...  \n",
      "264831   Kettle Sweet Chilli And Sour Cream 175g         2       10.8  \n",
      "264832             Tostitos Splash Of  Lime 175g         1        4.4  \n",
      "264833                  Doritos Mexicana    170g         2        8.8  \n",
      "264834   Doritos Corn Chip Mexican Jalapeno 150g         2        7.8  \n",
      "264835             Tostitos Splash Of  Lime 175g         2        8.8  \n",
      "\n",
      "[246741 rows x 8 columns]\n"
     ]
    }
   ],
   "source": [
    "#There are salsa products in the dataset but we are only interested in the chips category, so let’s remove this\n",
    "# converting PROD_NAME to lowercase and check if it contains \"salsa\"\n",
    "transactionData['SALSA'] = transactionData['PROD_NAME'].str.lower().str.contains(\"salsa\")\n",
    "\n",
    "# removing products with \"salsa\" in their names\n",
    "transactionData = transactionData[~transactionData['SALSA']]\n",
    "\n",
    "# dropping the 'SALSA' column\n",
    "transactionData = transactionData.drop(columns=['SALSA'])\n",
    "\n",
    "print(transactionData)"
   ]
  },
  {
   "cell_type": "code",
   "execution_count": 27,
   "id": "0d835212",
   "metadata": {},
   "outputs": [
    {
     "name": "stdout",
     "output_type": "stream",
     "text": [
      "          DATE  Transaction_Count\n",
      "0   2018-07-01                663\n",
      "1   2018-07-02                650\n",
      "2   2018-07-03                674\n",
      "3   2018-07-04                669\n",
      "4   2018-07-05                660\n",
      "..         ...                ...\n",
      "359 2019-06-26                657\n",
      "360 2019-06-27                669\n",
      "361 2019-06-28                673\n",
      "362 2019-06-29                703\n",
      "363 2019-06-30                704\n",
      "\n",
      "[364 rows x 2 columns]\n"
     ]
    }
   ],
   "source": [
    "# counting the number of transactions by date\n",
    "transactions_by_date = transactionData.groupby('DATE').size().reset_index()\n",
    "transactions_by_date.columns = ['DATE', 'Transaction_Count']\n",
    "\n",
    "print(transactions_by_date)"
   ]
  },
  {
   "cell_type": "markdown",
   "id": "733a1d18",
   "metadata": {},
   "source": [
    "There’s only 364 rows, meaning only 364 dates which indicates a missing date. Let’s create a sequence of\n",
    "dates from 1 Jul 2018 to 30 Jun 2019 and use this to create a chart of number of transactions over time to\n",
    "find the missing date. and to find highest sales point in the data"
   ]
  },
  {
   "cell_type": "code",
   "execution_count": 28,
   "id": "72702910",
   "metadata": {},
   "outputs": [
    {
     "name": "stderr",
     "output_type": "stream",
     "text": [
      "C:\\Users\\Lawre\\anaconda3\\lib\\site-packages\\pandas\\core\\indexes\\base.py:345: FutureWarning: Comparison of Timestamp with datetime.date is deprecated in order to match the standard library behavior.  In a future version these will be considered non-comparable.Use 'ts == pd.Timestamp(date)' or 'ts.date() == date' instead.\n",
      "  joined_ndarray, lidx, ridx = libjoin.outer_join_indexer(sv, ov)\n"
     ]
    },
    {
     "data": {
      "image/png": "[encoded data removed]",
      "text/plain": [
       "<Figure size 720x432 with 1 Axes>"
      ]
     },
     "metadata": {},
     "output_type": "display_data"
    }
   ],
   "source": [
    "# creating a sequence of dates\n",
    "start_date = date(2018, 7, 1)\n",
    "end_date = date(2019, 6, 30)\n",
    "date_range = [start_date + timedelta(days=x) for x in range((end_date - start_date).days + 1)]\n",
    "all_dates = pd.DataFrame({'DATE': date_range})\n",
    "\n",
    "# counting the number of transactions by date\n",
    "transactions_by_date = transactionData.groupby('DATE').size().reset_index()\n",
    "transactions_by_date.columns = ['DATE', 'Transaction_Count']\n",
    "\n",
    "# merging the sequences of dates with the transaction counts using pd.concat\n",
    "transactions_by_day = pd.concat([all_dates.set_index('DATE'), transactions_by_date.set_index('DATE')], axis=1, join='outer').reset_index()\n",
    "\n",
    "# setting plot themes\n",
    "plt.style.use('seaborn-whitegrid')\n",
    "\n",
    "# ploting transactions over time using matplotlib\n",
    "plt.figure(figsize=(10, 6))\n",
    "plt.plot(transactions_by_day['DATE'], transactions_by_day['Transaction_Count'], marker='o')\n",
    "plt.xlabel('Day')\n",
    "plt.ylabel('Number of transactions')\n",
    "plt.title('Transactions over time')\n",
    "plt.xticks(rotation=45)\n",
    "plt.tight_layout()\n",
    "\n",
    "plt.show()"
   ]
  },
  {
   "cell_type": "code",
   "execution_count": 29,
   "id": "80d90cac",
   "metadata": {},
   "outputs": [
    {
     "data": {
      "text/plain": [
       "'from the chart above, we can see that there is an increase in purchases in December and a break in late December. \\nLet’s zoom in on this by creating a chart for only the month of December.'"
      ]
     },
     "execution_count": 29,
     "metadata": {},
     "output_type": "execute_result"
    }
   ],
   "source": [
    "'''from the chart above, we can see that there is an increase in purchases in December and a break in late December. \n",
    "Let’s zoom in on this by creating a chart for only the month of December.'''"
   ]
  },
  {
   "cell_type": "code",
   "execution_count": 30,
   "id": "7ef15d6b",
   "metadata": {},
   "outputs": [
    {
     "data": {
      "image/png": "[encoded data removed]",
      "text/plain": [
       "<Figure size 720x432 with 1 Axes>"
      ]
     },
     "metadata": {},
     "output_type": "display_data"
    }
   ],
   "source": [
    "# converting the 'DATE' column to datetime format\n",
    "transactions_by_day['DATE'] = pd.to_datetime(transactions_by_day['DATE'])\n",
    "\n",
    "# filtering data for December\n",
    "transactions_december = transactions_by_day[transactions_by_day['DATE'].dt.month == 12]\n",
    "\n",
    "# creating a line plot using matplotlib\n",
    "plt.figure(figsize=(10, 6))\n",
    "\n",
    "plt.plot(transactions_december['DATE'], transactions_december['Transaction_Count'], marker='o')\n",
    "plt.xlabel('Day')\n",
    "plt.ylabel('Number of transactions')\n",
    "plt.title('Transactions in December')\n",
    "plt.xticks(rotation=90)\n",
    "\n",
    "plt.tight_layout()\n",
    "plt.show()"
   ]
  },
  {
   "cell_type": "code",
   "execution_count": 31,
   "id": "5340cae0",
   "metadata": {},
   "outputs": [
    {
     "data": {
      "text/plain": [
       "'from the chart above, we can see that the increase in sales occurs in the lead-up to Christmas and that there are zero \\nsales on Christmas day itself. This is due to shops being closed on Christmas day. Also, the highest sales point/period\\nis towards the end of the year - December.'"
      ]
     },
     "execution_count": 31,
     "metadata": {},
     "output_type": "execute_result"
    }
   ],
   "source": [
    "'''from the chart above, we can see that the increase in sales occurs in the lead-up to Christmas and that there are zero \n",
    "sales on Christmas day itself. This is due to shops being closed on Christmas day. Also, the highest sales point/period\n",
    "is towards the end of the year - December.'''"
   ]
  },
  {
   "cell_type": "code",
   "execution_count": 32,
   "id": "c96c6a2f",
   "metadata": {},
   "outputs": [],
   "source": [
    "# Treatment for outliers using the inter-quartile range method\n",
    "\n",
    "def outlier_lims(data, col_names):\n",
    "    indices_to_drop = []\n",
    "    for col_name in col_names:\n",
    "        col = data[col_name]\n",
    "        q3, q1 = np.percentile(col, [75, 25])\n",
    "        iqr = q3 - q1\n",
    "        upper_lim = q3 + 1.5 * iqr\n",
    "        lower_lim = q1 - 1.5 * iqr\n",
    "        \n",
    "        outliers_upper = col[col > upper_lim]\n",
    "        outliers_lower = col[col < lower_lim]\n",
    "        \n",
    "        indices_to_drop.extend(outliers_upper.index)\n",
    "        indices_to_drop.extend(outliers_lower.index)\n",
    "    \n",
    "    unique_indices_to_drop = list(set(indices_to_drop))\n",
    "    \n",
    "    return unique_indices_to_drop"
   ]
  },
  {
   "cell_type": "code",
   "execution_count": 33,
   "id": "0114d0b1",
   "metadata": {},
   "outputs": [],
   "source": [
    "# checking for outliers in the columns\n",
    "column_names = ['PROD_QTY', 'LYLTY_CARD_NBR', 'TXN_ID', 'TOT_SALES']\n",
    "\n",
    "indices_to_drop = outlier_lims(transactionData, column_names)\n",
    "\n",
    "# dropping the rows with outlier indices\n",
    "cleaned_df = transactionData.drop(indices_to_drop)"
   ]
  },
  {
   "cell_type": "code",
   "execution_count": 34,
   "id": "e08a33bb",
   "metadata": {},
   "outputs": [
    {
     "data": {
      "image/png": "[encoded data removed]",
      "text/plain": [
       "<Figure size 720x1080 with 9 Axes>"
      ]
     },
     "metadata": {},
     "output_type": "display_data"
    }
   ],
   "source": [
    "# inspecting for outliers in all the numeric columns in the data after outliers removal\n",
    "cleaned_df.plot(kind='box', subplots=True, layout=(3,3), sharex=False, sharey=False)\n",
    "plt.gcf().set_size_inches(10,15)\n",
    "plt.show()"
   ]
  },
  {
   "cell_type": "code",
   "execution_count": 35,
   "id": "24d3ead1",
   "metadata": {},
   "outputs": [
    {
     "name": "stdout",
     "output_type": "stream",
     "text": [
      "<class 'pandas.core.frame.DataFrame'>\n",
      "Int64Index: 220036 entries, 0 to 264835\n",
      "Data columns (total 8 columns):\n",
      " #   Column          Non-Null Count   Dtype         \n",
      "---  ------          --------------   -----         \n",
      " 0   DATE            220036 non-null  datetime64[ns]\n",
      " 1   STORE_NBR       220036 non-null  int64         \n",
      " 2   LYLTY_CARD_NBR  220036 non-null  int64         \n",
      " 3   TXN_ID          220036 non-null  int64         \n",
      " 4   PROD_NBR        220036 non-null  int64         \n",
      " 5   PROD_NAME       220036 non-null  object        \n",
      " 6   PROD_QTY        220036 non-null  int64         \n",
      " 7   TOT_SALES       220036 non-null  float64       \n",
      "dtypes: datetime64[ns](1), float64(1), int64(5), object(1)\n",
      "memory usage: 15.1+ MB\n"
     ]
    }
   ],
   "source": [
    "# there are 220036 rows remaining after outliers removal from the data\n",
    "cleaned_df.info()"
   ]
  },
  {
   "cell_type": "code",
   "execution_count": 36,
   "id": "1efd54b6",
   "metadata": {},
   "outputs": [
    {
     "data": {
      "text/html": [
       "<div>\n",
       "<style scoped>\n",
       "    .dataframe tbody tr th:only-of-type {\n",
       "        vertical-align: middle;\n",
       "    }\n",
       "\n",
       "    .dataframe tbody tr th {\n",
       "        vertical-align: top;\n",
       "    }\n",
       "\n",
       "    .dataframe thead th {\n",
       "        text-align: right;\n",
       "    }\n",
       "</style>\n",
       "<table border=\"1\" class=\"dataframe\">\n",
       "  <thead>\n",
       "    <tr style=\"text-align: right;\">\n",
       "      <th></th>\n",
       "      <th>DATE</th>\n",
       "      <th>STORE_NBR</th>\n",
       "      <th>LYLTY_CARD_NBR</th>\n",
       "      <th>TXN_ID</th>\n",
       "      <th>PROD_NBR</th>\n",
       "      <th>PROD_NAME</th>\n",
       "      <th>PROD_QTY</th>\n",
       "      <th>TOT_SALES</th>\n",
       "      <th>PACK_SIZE</th>\n",
       "    </tr>\n",
       "  </thead>\n",
       "  <tbody>\n",
       "    <tr>\n",
       "      <th>0</th>\n",
       "      <td>2018-10-17</td>\n",
       "      <td>1</td>\n",
       "      <td>1000</td>\n",
       "      <td>1</td>\n",
       "      <td>5</td>\n",
       "      <td>Natural Chip        Compny SeaSalt175g</td>\n",
       "      <td>2</td>\n",
       "      <td>6.0</td>\n",
       "      <td>175.0</td>\n",
       "    </tr>\n",
       "    <tr>\n",
       "      <th>2</th>\n",
       "      <td>2019-05-20</td>\n",
       "      <td>1</td>\n",
       "      <td>1343</td>\n",
       "      <td>383</td>\n",
       "      <td>61</td>\n",
       "      <td>Smiths Crinkle Cut  Chips Chicken 170g</td>\n",
       "      <td>2</td>\n",
       "      <td>2.9</td>\n",
       "      <td>170.0</td>\n",
       "    </tr>\n",
       "    <tr>\n",
       "      <th>9</th>\n",
       "      <td>2018-08-18</td>\n",
       "      <td>7</td>\n",
       "      <td>7150</td>\n",
       "      <td>6900</td>\n",
       "      <td>52</td>\n",
       "      <td>Grain Waves Sour    Cream&amp;Chives 210G</td>\n",
       "      <td>2</td>\n",
       "      <td>7.2</td>\n",
       "      <td>210.0</td>\n",
       "    </tr>\n",
       "    <tr>\n",
       "      <th>12</th>\n",
       "      <td>2019-05-18</td>\n",
       "      <td>9</td>\n",
       "      <td>9208</td>\n",
       "      <td>8634</td>\n",
       "      <td>15</td>\n",
       "      <td>Twisties Cheese     270g</td>\n",
       "      <td>2</td>\n",
       "      <td>9.2</td>\n",
       "      <td>270.0</td>\n",
       "    </tr>\n",
       "    <tr>\n",
       "      <th>24</th>\n",
       "      <td>2018-08-15</td>\n",
       "      <td>38</td>\n",
       "      <td>38142</td>\n",
       "      <td>34181</td>\n",
       "      <td>108</td>\n",
       "      <td>Kettle Tortilla ChpsHny&amp;Jlpno Chili 150g</td>\n",
       "      <td>2</td>\n",
       "      <td>9.2</td>\n",
       "      <td>150.0</td>\n",
       "    </tr>\n",
       "    <tr>\n",
       "      <th>...</th>\n",
       "      <td>...</td>\n",
       "      <td>...</td>\n",
       "      <td>...</td>\n",
       "      <td>...</td>\n",
       "      <td>...</td>\n",
       "      <td>...</td>\n",
       "      <td>...</td>\n",
       "      <td>...</td>\n",
       "      <td>...</td>\n",
       "    </tr>\n",
       "    <tr>\n",
       "      <th>264830</th>\n",
       "      <td>2018-11-12</td>\n",
       "      <td>272</td>\n",
       "      <td>272319</td>\n",
       "      <td>270087</td>\n",
       "      <td>44</td>\n",
       "      <td>Thins Chips Light&amp;  Tangy 175g</td>\n",
       "      <td>2</td>\n",
       "      <td>6.6</td>\n",
       "      <td>175.0</td>\n",
       "    </tr>\n",
       "    <tr>\n",
       "      <th>264831</th>\n",
       "      <td>2019-03-09</td>\n",
       "      <td>272</td>\n",
       "      <td>272319</td>\n",
       "      <td>270088</td>\n",
       "      <td>89</td>\n",
       "      <td>Kettle Sweet Chilli And Sour Cream 175g</td>\n",
       "      <td>2</td>\n",
       "      <td>10.8</td>\n",
       "      <td>175.0</td>\n",
       "    </tr>\n",
       "    <tr>\n",
       "      <th>264833</th>\n",
       "      <td>2018-11-06</td>\n",
       "      <td>272</td>\n",
       "      <td>272379</td>\n",
       "      <td>270187</td>\n",
       "      <td>51</td>\n",
       "      <td>Doritos Mexicana    170g</td>\n",
       "      <td>2</td>\n",
       "      <td>8.8</td>\n",
       "      <td>170.0</td>\n",
       "    </tr>\n",
       "    <tr>\n",
       "      <th>264834</th>\n",
       "      <td>2018-12-27</td>\n",
       "      <td>272</td>\n",
       "      <td>272379</td>\n",
       "      <td>270188</td>\n",
       "      <td>42</td>\n",
       "      <td>Doritos Corn Chip Mexican Jalapeno 150g</td>\n",
       "      <td>2</td>\n",
       "      <td>7.8</td>\n",
       "      <td>150.0</td>\n",
       "    </tr>\n",
       "    <tr>\n",
       "      <th>264835</th>\n",
       "      <td>2018-09-22</td>\n",
       "      <td>272</td>\n",
       "      <td>272380</td>\n",
       "      <td>270189</td>\n",
       "      <td>74</td>\n",
       "      <td>Tostitos Splash Of  Lime 175g</td>\n",
       "      <td>2</td>\n",
       "      <td>8.8</td>\n",
       "      <td>175.0</td>\n",
       "    </tr>\n",
       "  </tbody>\n",
       "</table>\n",
       "<p>220036 rows × 9 columns</p>\n",
       "</div>"
      ],
      "text/plain": [
       "             DATE  STORE_NBR  LYLTY_CARD_NBR  TXN_ID  PROD_NBR  \\\n",
       "0      2018-10-17          1            1000       1         5   \n",
       "2      2019-05-20          1            1343     383        61   \n",
       "9      2018-08-18          7            7150    6900        52   \n",
       "12     2019-05-18          9            9208    8634        15   \n",
       "24     2018-08-15         38           38142   34181       108   \n",
       "...           ...        ...             ...     ...       ...   \n",
       "264830 2018-11-12        272          272319  270087        44   \n",
       "264831 2019-03-09        272          272319  270088        89   \n",
       "264833 2018-11-06        272          272379  270187        51   \n",
       "264834 2018-12-27        272          272379  270188        42   \n",
       "264835 2018-09-22        272          272380  270189        74   \n",
       "\n",
       "                                       PROD_NAME  PROD_QTY  TOT_SALES  \\\n",
       "0         Natural Chip        Compny SeaSalt175g         2        6.0   \n",
       "2         Smiths Crinkle Cut  Chips Chicken 170g         2        2.9   \n",
       "9          Grain Waves Sour    Cream&Chives 210G         2        7.2   \n",
       "12                      Twisties Cheese     270g         2        9.2   \n",
       "24      Kettle Tortilla ChpsHny&Jlpno Chili 150g         2        9.2   \n",
       "...                                          ...       ...        ...   \n",
       "264830            Thins Chips Light&  Tangy 175g         2        6.6   \n",
       "264831   Kettle Sweet Chilli And Sour Cream 175g         2       10.8   \n",
       "264833                  Doritos Mexicana    170g         2        8.8   \n",
       "264834   Doritos Corn Chip Mexican Jalapeno 150g         2        7.8   \n",
       "264835             Tostitos Splash Of  Lime 175g         2        8.8   \n",
       "\n",
       "        PACK_SIZE  \n",
       "0           175.0  \n",
       "2           170.0  \n",
       "9           210.0  \n",
       "12          270.0  \n",
       "24          150.0  \n",
       "...           ...  \n",
       "264830      175.0  \n",
       "264831      175.0  \n",
       "264833      170.0  \n",
       "264834      150.0  \n",
       "264835      175.0  \n",
       "\n",
       "[220036 rows x 9 columns]"
      ]
     },
     "execution_count": 36,
     "metadata": {},
     "output_type": "execute_result"
    }
   ],
   "source": [
    "# feature engineering - creating pack_size and brand_name columns from the 'PROD_NAME' column\n",
    "cleaned_df['PACK_SIZE'] = cleaned_df['PROD_NAME'].str.extract('(\\d+)').astype(float)\n",
    "\n",
    "cleaned_df"
   ]
  },
  {
   "cell_type": "code",
   "execution_count": 37,
   "id": "e66e5957",
   "metadata": {},
   "outputs": [
    {
     "data": {
      "image/png": "[encoded data removed]",
      "text/plain": [
       "<Figure size 432x288 with 1 Axes>"
      ]
     },
     "metadata": {},
     "output_type": "display_data"
    }
   ],
   "source": [
    "# creating a histogram of the PACK_SIZE column\n",
    "plt.hist(cleaned_df['PACK_SIZE'], bins='auto', alpha=0.7, rwidth=0.85)\n",
    "plt.xlabel('PACK_SIZE')\n",
    "plt.ylabel('Frequency')\n",
    "plt.title('Histogram of PACK_SIZE')\n",
    "plt.grid(True)\n",
    "plt.show()"
   ]
  },
  {
   "cell_type": "code",
   "execution_count": 38,
   "id": "666c6821",
   "metadata": {},
   "outputs": [
    {
     "data": {
      "text/plain": [
       "'the pack sizes created look reasonable and now to create brands, using the first word in PROD_NAME to work out \\nthe brand name'"
      ]
     },
     "execution_count": 38,
     "metadata": {},
     "output_type": "execute_result"
    }
   ],
   "source": [
    "'''the pack sizes created look reasonable and now to create brands, using the first word in PROD_NAME to work out \n",
    "the brand name'''"
   ]
  },
  {
   "cell_type": "code",
   "execution_count": 39,
   "id": "beb0417f",
   "metadata": {},
   "outputs": [
    {
     "data": {
      "text/html": [
       "<div>\n",
       "<style scoped>\n",
       "    .dataframe tbody tr th:only-of-type {\n",
       "        vertical-align: middle;\n",
       "    }\n",
       "\n",
       "    .dataframe tbody tr th {\n",
       "        vertical-align: top;\n",
       "    }\n",
       "\n",
       "    .dataframe thead th {\n",
       "        text-align: right;\n",
       "    }\n",
       "</style>\n",
       "<table border=\"1\" class=\"dataframe\">\n",
       "  <thead>\n",
       "    <tr style=\"text-align: right;\">\n",
       "      <th></th>\n",
       "      <th>DATE</th>\n",
       "      <th>STORE_NBR</th>\n",
       "      <th>LYLTY_CARD_NBR</th>\n",
       "      <th>TXN_ID</th>\n",
       "      <th>PROD_NBR</th>\n",
       "      <th>PROD_NAME</th>\n",
       "      <th>PROD_QTY</th>\n",
       "      <th>TOT_SALES</th>\n",
       "      <th>PACK_SIZE</th>\n",
       "      <th>BRAND</th>\n",
       "    </tr>\n",
       "  </thead>\n",
       "  <tbody>\n",
       "    <tr>\n",
       "      <th>0</th>\n",
       "      <td>2018-10-17</td>\n",
       "      <td>1</td>\n",
       "      <td>1000</td>\n",
       "      <td>1</td>\n",
       "      <td>5</td>\n",
       "      <td>Natural Chip        Compny SeaSalt175g</td>\n",
       "      <td>2</td>\n",
       "      <td>6.0</td>\n",
       "      <td>175.0</td>\n",
       "      <td>NATURAL</td>\n",
       "    </tr>\n",
       "    <tr>\n",
       "      <th>2</th>\n",
       "      <td>2019-05-20</td>\n",
       "      <td>1</td>\n",
       "      <td>1343</td>\n",
       "      <td>383</td>\n",
       "      <td>61</td>\n",
       "      <td>Smiths Crinkle Cut  Chips Chicken 170g</td>\n",
       "      <td>2</td>\n",
       "      <td>2.9</td>\n",
       "      <td>170.0</td>\n",
       "      <td>SMITHS</td>\n",
       "    </tr>\n",
       "    <tr>\n",
       "      <th>9</th>\n",
       "      <td>2018-08-18</td>\n",
       "      <td>7</td>\n",
       "      <td>7150</td>\n",
       "      <td>6900</td>\n",
       "      <td>52</td>\n",
       "      <td>Grain Waves Sour    Cream&amp;Chives 210G</td>\n",
       "      <td>2</td>\n",
       "      <td>7.2</td>\n",
       "      <td>210.0</td>\n",
       "      <td>GRAIN</td>\n",
       "    </tr>\n",
       "    <tr>\n",
       "      <th>12</th>\n",
       "      <td>2019-05-18</td>\n",
       "      <td>9</td>\n",
       "      <td>9208</td>\n",
       "      <td>8634</td>\n",
       "      <td>15</td>\n",
       "      <td>Twisties Cheese     270g</td>\n",
       "      <td>2</td>\n",
       "      <td>9.2</td>\n",
       "      <td>270.0</td>\n",
       "      <td>TWISTIES</td>\n",
       "    </tr>\n",
       "    <tr>\n",
       "      <th>24</th>\n",
       "      <td>2018-08-15</td>\n",
       "      <td>38</td>\n",
       "      <td>38142</td>\n",
       "      <td>34181</td>\n",
       "      <td>108</td>\n",
       "      <td>Kettle Tortilla ChpsHny&amp;Jlpno Chili 150g</td>\n",
       "      <td>2</td>\n",
       "      <td>9.2</td>\n",
       "      <td>150.0</td>\n",
       "      <td>KETTLE</td>\n",
       "    </tr>\n",
       "    <tr>\n",
       "      <th>...</th>\n",
       "      <td>...</td>\n",
       "      <td>...</td>\n",
       "      <td>...</td>\n",
       "      <td>...</td>\n",
       "      <td>...</td>\n",
       "      <td>...</td>\n",
       "      <td>...</td>\n",
       "      <td>...</td>\n",
       "      <td>...</td>\n",
       "      <td>...</td>\n",
       "    </tr>\n",
       "    <tr>\n",
       "      <th>264830</th>\n",
       "      <td>2018-11-12</td>\n",
       "      <td>272</td>\n",
       "      <td>272319</td>\n",
       "      <td>270087</td>\n",
       "      <td>44</td>\n",
       "      <td>Thins Chips Light&amp;  Tangy 175g</td>\n",
       "      <td>2</td>\n",
       "      <td>6.6</td>\n",
       "      <td>175.0</td>\n",
       "      <td>THINS</td>\n",
       "    </tr>\n",
       "    <tr>\n",
       "      <th>264831</th>\n",
       "      <td>2019-03-09</td>\n",
       "      <td>272</td>\n",
       "      <td>272319</td>\n",
       "      <td>270088</td>\n",
       "      <td>89</td>\n",
       "      <td>Kettle Sweet Chilli And Sour Cream 175g</td>\n",
       "      <td>2</td>\n",
       "      <td>10.8</td>\n",
       "      <td>175.0</td>\n",
       "      <td>KETTLE</td>\n",
       "    </tr>\n",
       "    <tr>\n",
       "      <th>264833</th>\n",
       "      <td>2018-11-06</td>\n",
       "      <td>272</td>\n",
       "      <td>272379</td>\n",
       "      <td>270187</td>\n",
       "      <td>51</td>\n",
       "      <td>Doritos Mexicana    170g</td>\n",
       "      <td>2</td>\n",
       "      <td>8.8</td>\n",
       "      <td>170.0</td>\n",
       "      <td>DORITOS</td>\n",
       "    </tr>\n",
       "    <tr>\n",
       "      <th>264834</th>\n",
       "      <td>2018-12-27</td>\n",
       "      <td>272</td>\n",
       "      <td>272379</td>\n",
       "      <td>270188</td>\n",
       "      <td>42</td>\n",
       "      <td>Doritos Corn Chip Mexican Jalapeno 150g</td>\n",
       "      <td>2</td>\n",
       "      <td>7.8</td>\n",
       "      <td>150.0</td>\n",
       "      <td>DORITOS</td>\n",
       "    </tr>\n",
       "    <tr>\n",
       "      <th>264835</th>\n",
       "      <td>2018-09-22</td>\n",
       "      <td>272</td>\n",
       "      <td>272380</td>\n",
       "      <td>270189</td>\n",
       "      <td>74</td>\n",
       "      <td>Tostitos Splash Of  Lime 175g</td>\n",
       "      <td>2</td>\n",
       "      <td>8.8</td>\n",
       "      <td>175.0</td>\n",
       "      <td>TOSTITOS</td>\n",
       "    </tr>\n",
       "  </tbody>\n",
       "</table>\n",
       "<p>220036 rows × 10 columns</p>\n",
       "</div>"
      ],
      "text/plain": [
       "             DATE  STORE_NBR  LYLTY_CARD_NBR  TXN_ID  PROD_NBR  \\\n",
       "0      2018-10-17          1            1000       1         5   \n",
       "2      2019-05-20          1            1343     383        61   \n",
       "9      2018-08-18          7            7150    6900        52   \n",
       "12     2019-05-18          9            9208    8634        15   \n",
       "24     2018-08-15         38           38142   34181       108   \n",
       "...           ...        ...             ...     ...       ...   \n",
       "264830 2018-11-12        272          272319  270087        44   \n",
       "264831 2019-03-09        272          272319  270088        89   \n",
       "264833 2018-11-06        272          272379  270187        51   \n",
       "264834 2018-12-27        272          272379  270188        42   \n",
       "264835 2018-09-22        272          272380  270189        74   \n",
       "\n",
       "                                       PROD_NAME  PROD_QTY  TOT_SALES  \\\n",
       "0         Natural Chip        Compny SeaSalt175g         2        6.0   \n",
       "2         Smiths Crinkle Cut  Chips Chicken 170g         2        2.9   \n",
       "9          Grain Waves Sour    Cream&Chives 210G         2        7.2   \n",
       "12                      Twisties Cheese     270g         2        9.2   \n",
       "24      Kettle Tortilla ChpsHny&Jlpno Chili 150g         2        9.2   \n",
       "...                                          ...       ...        ...   \n",
       "264830            Thins Chips Light&  Tangy 175g         2        6.6   \n",
       "264831   Kettle Sweet Chilli And Sour Cream 175g         2       10.8   \n",
       "264833                  Doritos Mexicana    170g         2        8.8   \n",
       "264834   Doritos Corn Chip Mexican Jalapeno 150g         2        7.8   \n",
       "264835             Tostitos Splash Of  Lime 175g         2        8.8   \n",
       "\n",
       "        PACK_SIZE     BRAND  \n",
       "0           175.0   NATURAL  \n",
       "2           170.0    SMITHS  \n",
       "9           210.0     GRAIN  \n",
       "12          270.0  TWISTIES  \n",
       "24          150.0    KETTLE  \n",
       "...           ...       ...  \n",
       "264830      175.0     THINS  \n",
       "264831      175.0    KETTLE  \n",
       "264833      170.0   DORITOS  \n",
       "264834      150.0   DORITOS  \n",
       "264835      175.0  TOSTITOS  \n",
       "\n",
       "[220036 rows x 10 columns]"
      ]
     },
     "execution_count": 39,
     "metadata": {},
     "output_type": "execute_result"
    }
   ],
   "source": [
    "# extracting brand names and converting to uppercase\n",
    "cleaned_df['BRAND'] = cleaned_df['PROD_NAME'].str.split(' ', n=1).str[0].str.upper()\n",
    "\n",
    "cleaned_df"
   ]
  },
  {
   "cell_type": "code",
   "execution_count": 40,
   "id": "989c4afe",
   "metadata": {},
   "outputs": [
    {
     "name": "stdout",
     "output_type": "stream",
     "text": [
      "         BRAND  Count\n",
      "0       KETTLE  37190\n",
      "1       SMITHS  24211\n",
      "2     PRINGLES  22511\n",
      "3      DORITOS  19884\n",
      "4        THINS  12647\n",
      "5          RRD  10409\n",
      "6    INFUZIONS   9919\n",
      "7           WW   9006\n",
      "8         COBS   8762\n",
      "9     TOSTITOS   8514\n",
      "10    TWISTIES   8513\n",
      "11    TYRRELLS   5771\n",
      "12       GRAIN   5616\n",
      "13     NATURAL   5271\n",
      "14    CHEEZELS   4069\n",
      "15         CCS   3984\n",
      "16         RED   3891\n",
      "17      DORITO   2875\n",
      "18      INFZNS   2828\n",
      "19       SMITH   2587\n",
      "20     CHEETOS   2537\n",
      "21       SNBTS   1379\n",
      "22      BURGER   1366\n",
      "23  WOOLWORTHS   1334\n",
      "24     GRNWVES   1272\n",
      "25    SUNBITES   1239\n",
      "26         NCC   1238\n",
      "27      FRENCH   1213\n"
     ]
    }
   ],
   "source": [
    "# checking the unique values of the created Brand names for mislabelling and their counts\n",
    "brand_counts = cleaned_df['BRAND'].value_counts().reset_index()\n",
    "brand_counts.columns = ['BRAND', 'Count']\n",
    "brand_counts = brand_counts.sort_values(by='Count', ascending=False)\n",
    "\n",
    "print(brand_counts)"
   ]
  },
  {
   "cell_type": "code",
   "execution_count": 41,
   "id": "ab9d6b25",
   "metadata": {},
   "outputs": [
    {
     "data": {
      "text/plain": [
       "'some of the brand names look like they are of the same brands - such as RED and RRD, which are both Red\\nRock Deli chips. Let’s clean and combine these together.'"
      ]
     },
     "execution_count": 41,
     "metadata": {},
     "output_type": "execute_result"
    }
   ],
   "source": [
    "'''some of the brand names look like they are of the same brands - such as RED and RRD, which are both Red\n",
    "Rock Deli chips. Let’s clean and combine these together.'''"
   ]
  },
  {
   "cell_type": "code",
   "execution_count": 42,
   "id": "4f0ac953",
   "metadata": {
    "scrolled": true
   },
   "outputs": [
    {
     "data": {
      "text/html": [
       "<div>\n",
       "<style scoped>\n",
       "    .dataframe tbody tr th:only-of-type {\n",
       "        vertical-align: middle;\n",
       "    }\n",
       "\n",
       "    .dataframe tbody tr th {\n",
       "        vertical-align: top;\n",
       "    }\n",
       "\n",
       "    .dataframe thead th {\n",
       "        text-align: right;\n",
       "    }\n",
       "</style>\n",
       "<table border=\"1\" class=\"dataframe\">\n",
       "  <thead>\n",
       "    <tr style=\"text-align: right;\">\n",
       "      <th></th>\n",
       "      <th>DATE</th>\n",
       "      <th>STORE_NBR</th>\n",
       "      <th>LYLTY_CARD_NBR</th>\n",
       "      <th>TXN_ID</th>\n",
       "      <th>PROD_NBR</th>\n",
       "      <th>PROD_NAME</th>\n",
       "      <th>PROD_QTY</th>\n",
       "      <th>TOT_SALES</th>\n",
       "      <th>PACK_SIZE</th>\n",
       "      <th>BRAND</th>\n",
       "    </tr>\n",
       "  </thead>\n",
       "  <tbody>\n",
       "    <tr>\n",
       "      <th>0</th>\n",
       "      <td>2018-10-17</td>\n",
       "      <td>1</td>\n",
       "      <td>1000</td>\n",
       "      <td>1</td>\n",
       "      <td>5</td>\n",
       "      <td>Natural Chip        Compny SeaSalt175g</td>\n",
       "      <td>2</td>\n",
       "      <td>6.0</td>\n",
       "      <td>175.0</td>\n",
       "      <td>NATURAL</td>\n",
       "    </tr>\n",
       "    <tr>\n",
       "      <th>2</th>\n",
       "      <td>2019-05-20</td>\n",
       "      <td>1</td>\n",
       "      <td>1343</td>\n",
       "      <td>383</td>\n",
       "      <td>61</td>\n",
       "      <td>Smiths Crinkle Cut  Chips Chicken 170g</td>\n",
       "      <td>2</td>\n",
       "      <td>2.9</td>\n",
       "      <td>170.0</td>\n",
       "      <td>SMITHS</td>\n",
       "    </tr>\n",
       "    <tr>\n",
       "      <th>9</th>\n",
       "      <td>2018-08-18</td>\n",
       "      <td>7</td>\n",
       "      <td>7150</td>\n",
       "      <td>6900</td>\n",
       "      <td>52</td>\n",
       "      <td>Grain Waves Sour    Cream&amp;Chives 210G</td>\n",
       "      <td>2</td>\n",
       "      <td>7.2</td>\n",
       "      <td>210.0</td>\n",
       "      <td>GRNWVES</td>\n",
       "    </tr>\n",
       "    <tr>\n",
       "      <th>12</th>\n",
       "      <td>2019-05-18</td>\n",
       "      <td>9</td>\n",
       "      <td>9208</td>\n",
       "      <td>8634</td>\n",
       "      <td>15</td>\n",
       "      <td>Twisties Cheese     270g</td>\n",
       "      <td>2</td>\n",
       "      <td>9.2</td>\n",
       "      <td>270.0</td>\n",
       "      <td>TWISTIES</td>\n",
       "    </tr>\n",
       "    <tr>\n",
       "      <th>24</th>\n",
       "      <td>2018-08-15</td>\n",
       "      <td>38</td>\n",
       "      <td>38142</td>\n",
       "      <td>34181</td>\n",
       "      <td>108</td>\n",
       "      <td>Kettle Tortilla ChpsHny&amp;Jlpno Chili 150g</td>\n",
       "      <td>2</td>\n",
       "      <td>9.2</td>\n",
       "      <td>150.0</td>\n",
       "      <td>KETTLE</td>\n",
       "    </tr>\n",
       "    <tr>\n",
       "      <th>...</th>\n",
       "      <td>...</td>\n",
       "      <td>...</td>\n",
       "      <td>...</td>\n",
       "      <td>...</td>\n",
       "      <td>...</td>\n",
       "      <td>...</td>\n",
       "      <td>...</td>\n",
       "      <td>...</td>\n",
       "      <td>...</td>\n",
       "      <td>...</td>\n",
       "    </tr>\n",
       "    <tr>\n",
       "      <th>264830</th>\n",
       "      <td>2018-11-12</td>\n",
       "      <td>272</td>\n",
       "      <td>272319</td>\n",
       "      <td>270087</td>\n",
       "      <td>44</td>\n",
       "      <td>Thins Chips Light&amp;  Tangy 175g</td>\n",
       "      <td>2</td>\n",
       "      <td>6.6</td>\n",
       "      <td>175.0</td>\n",
       "      <td>THINS</td>\n",
       "    </tr>\n",
       "    <tr>\n",
       "      <th>264831</th>\n",
       "      <td>2019-03-09</td>\n",
       "      <td>272</td>\n",
       "      <td>272319</td>\n",
       "      <td>270088</td>\n",
       "      <td>89</td>\n",
       "      <td>Kettle Sweet Chilli And Sour Cream 175g</td>\n",
       "      <td>2</td>\n",
       "      <td>10.8</td>\n",
       "      <td>175.0</td>\n",
       "      <td>KETTLE</td>\n",
       "    </tr>\n",
       "    <tr>\n",
       "      <th>264833</th>\n",
       "      <td>2018-11-06</td>\n",
       "      <td>272</td>\n",
       "      <td>272379</td>\n",
       "      <td>270187</td>\n",
       "      <td>51</td>\n",
       "      <td>Doritos Mexicana    170g</td>\n",
       "      <td>2</td>\n",
       "      <td>8.8</td>\n",
       "      <td>170.0</td>\n",
       "      <td>DORITOS</td>\n",
       "    </tr>\n",
       "    <tr>\n",
       "      <th>264834</th>\n",
       "      <td>2018-12-27</td>\n",
       "      <td>272</td>\n",
       "      <td>272379</td>\n",
       "      <td>270188</td>\n",
       "      <td>42</td>\n",
       "      <td>Doritos Corn Chip Mexican Jalapeno 150g</td>\n",
       "      <td>2</td>\n",
       "      <td>7.8</td>\n",
       "      <td>150.0</td>\n",
       "      <td>DORITOS</td>\n",
       "    </tr>\n",
       "    <tr>\n",
       "      <th>264835</th>\n",
       "      <td>2018-09-22</td>\n",
       "      <td>272</td>\n",
       "      <td>272380</td>\n",
       "      <td>270189</td>\n",
       "      <td>74</td>\n",
       "      <td>Tostitos Splash Of  Lime 175g</td>\n",
       "      <td>2</td>\n",
       "      <td>8.8</td>\n",
       "      <td>175.0</td>\n",
       "      <td>TOSTITOS</td>\n",
       "    </tr>\n",
       "  </tbody>\n",
       "</table>\n",
       "<p>220036 rows × 10 columns</p>\n",
       "</div>"
      ],
      "text/plain": [
       "             DATE  STORE_NBR  LYLTY_CARD_NBR  TXN_ID  PROD_NBR  \\\n",
       "0      2018-10-17          1            1000       1         5   \n",
       "2      2019-05-20          1            1343     383        61   \n",
       "9      2018-08-18          7            7150    6900        52   \n",
       "12     2019-05-18          9            9208    8634        15   \n",
       "24     2018-08-15         38           38142   34181       108   \n",
       "...           ...        ...             ...     ...       ...   \n",
       "264830 2018-11-12        272          272319  270087        44   \n",
       "264831 2019-03-09        272          272319  270088        89   \n",
       "264833 2018-11-06        272          272379  270187        51   \n",
       "264834 2018-12-27        272          272379  270188        42   \n",
       "264835 2018-09-22        272          272380  270189        74   \n",
       "\n",
       "                                       PROD_NAME  PROD_QTY  TOT_SALES  \\\n",
       "0         Natural Chip        Compny SeaSalt175g         2        6.0   \n",
       "2         Smiths Crinkle Cut  Chips Chicken 170g         2        2.9   \n",
       "9          Grain Waves Sour    Cream&Chives 210G         2        7.2   \n",
       "12                      Twisties Cheese     270g         2        9.2   \n",
       "24      Kettle Tortilla ChpsHny&Jlpno Chili 150g         2        9.2   \n",
       "...                                          ...       ...        ...   \n",
       "264830            Thins Chips Light&  Tangy 175g         2        6.6   \n",
       "264831   Kettle Sweet Chilli And Sour Cream 175g         2       10.8   \n",
       "264833                  Doritos Mexicana    170g         2        8.8   \n",
       "264834   Doritos Corn Chip Mexican Jalapeno 150g         2        7.8   \n",
       "264835             Tostitos Splash Of  Lime 175g         2        8.8   \n",
       "\n",
       "        PACK_SIZE     BRAND  \n",
       "0           175.0   NATURAL  \n",
       "2           170.0    SMITHS  \n",
       "9           210.0   GRNWVES  \n",
       "12          270.0  TWISTIES  \n",
       "24          150.0    KETTLE  \n",
       "...           ...       ...  \n",
       "264830      175.0     THINS  \n",
       "264831      175.0    KETTLE  \n",
       "264833      170.0   DORITOS  \n",
       "264834      150.0   DORITOS  \n",
       "264835      175.0  TOSTITOS  \n",
       "\n",
       "[220036 rows x 10 columns]"
      ]
     },
     "execution_count": 42,
     "metadata": {},
     "output_type": "execute_result"
    }
   ],
   "source": [
    "# cleaning brand names\n",
    "cleaned_df.loc[cleaned_df['BRAND'] == 'RED', 'BRAND'] = 'RRD'\n",
    "cleaned_df.loc[cleaned_df['BRAND'] == 'SNBTS', 'BRAND'] = 'SUNBITES'\n",
    "cleaned_df.loc[cleaned_df['BRAND'] == 'INFZNS', 'BRAND'] = 'INFUZIONS'\n",
    "cleaned_df.loc[cleaned_df['BRAND'] == 'WW', 'BRAND'] = 'WOOLWORTHS'\n",
    "cleaned_df.loc[cleaned_df['BRAND'] == 'SMITH', 'BRAND'] = 'SMITHS'\n",
    "cleaned_df.loc[cleaned_df['BRAND'] == 'NCC', 'BRAND'] = 'NATURAL'\n",
    "cleaned_df.loc[cleaned_df['BRAND'] == 'DORITO', 'BRAND'] = 'DORITOS'\n",
    "cleaned_df.loc[cleaned_df['BRAND'] == 'GRAIN', 'BRAND'] = 'GRNWVES'\n",
    "\n",
    "cleaned_df"
   ]
  },
  {
   "cell_type": "code",
   "execution_count": 43,
   "id": "e4211d00",
   "metadata": {},
   "outputs": [
    {
     "name": "stdout",
     "output_type": "stream",
     "text": [
      "                LIFESTAGE  Count\n",
      "0                RETIREES  14805\n",
      "1   OLDER SINGLES/COUPLES  14609\n",
      "2   YOUNG SINGLES/COUPLES  14441\n",
      "3          OLDER FAMILIES   9780\n",
      "4          YOUNG FAMILIES   9178\n",
      "5  MIDAGE SINGLES/COUPLES   7275\n",
      "6            NEW FAMILIES   2549\n"
     ]
    }
   ],
   "source": [
    "# examining the values of lifestage and their counts\n",
    "lifestage_counts = customerData['LIFESTAGE'].value_counts().reset_index()\n",
    "lifestage_counts.columns = ['LIFESTAGE', 'Count']\n",
    "lifestage_counts = lifestage_counts.sort_values(by='Count', ascending=False)\n",
    "\n",
    "print(lifestage_counts)"
   ]
  },
  {
   "cell_type": "code",
   "execution_count": 44,
   "id": "ea8aebb9",
   "metadata": {},
   "outputs": [
    {
     "name": "stdout",
     "output_type": "stream",
     "text": [
      "  PREMIUM_CUSTOMER  Count\n",
      "0       Mainstream  29245\n",
      "1           Budget  24470\n",
      "2          Premium  18922\n"
     ]
    }
   ],
   "source": [
    "# examining the values of premium_customer and their counts\n",
    "premium_counts = customerData['PREMIUM_CUSTOMER'].value_counts().reset_index()\n",
    "premium_counts.columns = ['PREMIUM_CUSTOMER', 'Count']\n",
    "premium_counts = premium_counts.sort_values(by='Count', ascending=False)\n",
    "\n",
    "print(premium_counts)"
   ]
  },
  {
   "cell_type": "code",
   "execution_count": 45,
   "id": "1a75d75f",
   "metadata": {},
   "outputs": [
    {
     "name": "stdout",
     "output_type": "stream",
     "text": [
      "                                    PROD_NAME  Count\n",
      "0      Kettle Mozzarella   Basil & Pesto 175g   3002\n",
      "1              Cobs Popd Sea Salt  Chips 110g   2979\n",
      "2    Kettle Tortilla ChpsHny&Jlpno Chili 150g   2961\n",
      "3    Cobs Popd Swt/Chlli &Sr/Cream Chips 110g   2949\n",
      "4               Tostitos Splash Of  Lime 175g   2936\n",
      "..                                        ...    ...\n",
      "100                  RRD Pc Sea Salt     165g   1245\n",
      "101         WW Crinkle Cut      Original 175g   1242\n",
      "102  Sunbites Whlegrn    Crisps Frch/Onin 90g   1239\n",
      "103    NCC Sour Cream &    Garden Chives 175g   1238\n",
      "104            French Fries Potato Chips 175g   1213\n",
      "\n",
      "[105 rows x 2 columns]\n"
     ]
    }
   ],
   "source": [
    "# examining the values of PROD_NAME and their counts\n",
    "prod_name_counts = cleaned_df['PROD_NAME'].value_counts().reset_index()\n",
    "prod_name_counts.columns = ['PROD_NAME', 'Count']\n",
    "\n",
    "print(prod_name_counts)"
   ]
  },
  {
   "cell_type": "code",
   "execution_count": 46,
   "id": "ad32f7de",
   "metadata": {},
   "outputs": [],
   "source": [
    "# merging the purchase behaviour and transaction data after cleaning\n",
    "\n",
    "df = pd.merge(customerData, cleaned_df, on='LYLTY_CARD_NBR')"
   ]
  },
  {
   "cell_type": "code",
   "execution_count": 47,
   "id": "7325e079",
   "metadata": {},
   "outputs": [
    {
     "data": {
      "text/html": [
       "<div>\n",
       "<style scoped>\n",
       "    .dataframe tbody tr th:only-of-type {\n",
       "        vertical-align: middle;\n",
       "    }\n",
       "\n",
       "    .dataframe tbody tr th {\n",
       "        vertical-align: top;\n",
       "    }\n",
       "\n",
       "    .dataframe thead th {\n",
       "        text-align: right;\n",
       "    }\n",
       "</style>\n",
       "<table border=\"1\" class=\"dataframe\">\n",
       "  <thead>\n",
       "    <tr style=\"text-align: right;\">\n",
       "      <th></th>\n",
       "      <th>LYLTY_CARD_NBR</th>\n",
       "      <th>LIFESTAGE</th>\n",
       "      <th>PREMIUM_CUSTOMER</th>\n",
       "      <th>DATE</th>\n",
       "      <th>STORE_NBR</th>\n",
       "      <th>TXN_ID</th>\n",
       "      <th>PROD_NBR</th>\n",
       "      <th>PROD_NAME</th>\n",
       "      <th>PROD_QTY</th>\n",
       "      <th>TOT_SALES</th>\n",
       "      <th>PACK_SIZE</th>\n",
       "      <th>BRAND</th>\n",
       "    </tr>\n",
       "  </thead>\n",
       "  <tbody>\n",
       "    <tr>\n",
       "      <th>0</th>\n",
       "      <td>1000</td>\n",
       "      <td>YOUNG SINGLES/COUPLES</td>\n",
       "      <td>Premium</td>\n",
       "      <td>2018-10-17</td>\n",
       "      <td>1</td>\n",
       "      <td>1</td>\n",
       "      <td>5</td>\n",
       "      <td>Natural Chip        Compny SeaSalt175g</td>\n",
       "      <td>2</td>\n",
       "      <td>6.0</td>\n",
       "      <td>175.0</td>\n",
       "      <td>NATURAL</td>\n",
       "    </tr>\n",
       "    <tr>\n",
       "      <th>1</th>\n",
       "      <td>1010</td>\n",
       "      <td>YOUNG SINGLES/COUPLES</td>\n",
       "      <td>Mainstream</td>\n",
       "      <td>2018-09-09</td>\n",
       "      <td>1</td>\n",
       "      <td>10</td>\n",
       "      <td>51</td>\n",
       "      <td>Doritos Mexicana    170g</td>\n",
       "      <td>2</td>\n",
       "      <td>8.8</td>\n",
       "      <td>170.0</td>\n",
       "      <td>DORITOS</td>\n",
       "    </tr>\n",
       "    <tr>\n",
       "      <th>2</th>\n",
       "      <td>1011</td>\n",
       "      <td>OLDER SINGLES/COUPLES</td>\n",
       "      <td>Mainstream</td>\n",
       "      <td>2018-07-29</td>\n",
       "      <td>1</td>\n",
       "      <td>12</td>\n",
       "      <td>84</td>\n",
       "      <td>GrnWves Plus Btroot &amp; Chilli Jam 180g</td>\n",
       "      <td>2</td>\n",
       "      <td>6.2</td>\n",
       "      <td>180.0</td>\n",
       "      <td>GRNWVES</td>\n",
       "    </tr>\n",
       "    <tr>\n",
       "      <th>3</th>\n",
       "      <td>1013</td>\n",
       "      <td>RETIREES</td>\n",
       "      <td>Budget</td>\n",
       "      <td>2019-03-07</td>\n",
       "      <td>1</td>\n",
       "      <td>19</td>\n",
       "      <td>91</td>\n",
       "      <td>CCs Tasty Cheese    175g</td>\n",
       "      <td>2</td>\n",
       "      <td>4.2</td>\n",
       "      <td>175.0</td>\n",
       "      <td>CCS</td>\n",
       "    </tr>\n",
       "    <tr>\n",
       "      <th>4</th>\n",
       "      <td>1025</td>\n",
       "      <td>YOUNG FAMILIES</td>\n",
       "      <td>Budget</td>\n",
       "      <td>2018-11-21</td>\n",
       "      <td>1</td>\n",
       "      <td>32</td>\n",
       "      <td>69</td>\n",
       "      <td>Smiths Chip Thinly  S/Cream&amp;Onion 175g</td>\n",
       "      <td>2</td>\n",
       "      <td>6.0</td>\n",
       "      <td>175.0</td>\n",
       "      <td>SMITHS</td>\n",
       "    </tr>\n",
       "    <tr>\n",
       "      <th>...</th>\n",
       "      <td>...</td>\n",
       "      <td>...</td>\n",
       "      <td>...</td>\n",
       "      <td>...</td>\n",
       "      <td>...</td>\n",
       "      <td>...</td>\n",
       "      <td>...</td>\n",
       "      <td>...</td>\n",
       "      <td>...</td>\n",
       "      <td>...</td>\n",
       "      <td>...</td>\n",
       "      <td>...</td>\n",
       "    </tr>\n",
       "    <tr>\n",
       "      <th>220031</th>\n",
       "      <td>272391</td>\n",
       "      <td>YOUNG SINGLES/COUPLES</td>\n",
       "      <td>Mainstream</td>\n",
       "      <td>2018-12-07</td>\n",
       "      <td>272</td>\n",
       "      <td>270205</td>\n",
       "      <td>63</td>\n",
       "      <td>Kettle 135g Swt Pot Sea Salt</td>\n",
       "      <td>2</td>\n",
       "      <td>8.4</td>\n",
       "      <td>135.0</td>\n",
       "      <td>KETTLE</td>\n",
       "    </tr>\n",
       "    <tr>\n",
       "      <th>220032</th>\n",
       "      <td>272392</td>\n",
       "      <td>MIDAGE SINGLES/COUPLES</td>\n",
       "      <td>Premium</td>\n",
       "      <td>2018-09-26</td>\n",
       "      <td>272</td>\n",
       "      <td>270206</td>\n",
       "      <td>70</td>\n",
       "      <td>Tyrrells Crisps     Lightly Salted 165g</td>\n",
       "      <td>2</td>\n",
       "      <td>8.4</td>\n",
       "      <td>165.0</td>\n",
       "      <td>TYRRELLS</td>\n",
       "    </tr>\n",
       "    <tr>\n",
       "      <th>220033</th>\n",
       "      <td>272392</td>\n",
       "      <td>MIDAGE SINGLES/COUPLES</td>\n",
       "      <td>Premium</td>\n",
       "      <td>2018-09-29</td>\n",
       "      <td>272</td>\n",
       "      <td>270207</td>\n",
       "      <td>75</td>\n",
       "      <td>Cobs Popd Sea Salt  Chips 110g</td>\n",
       "      <td>2</td>\n",
       "      <td>7.6</td>\n",
       "      <td>110.0</td>\n",
       "      <td>COBS</td>\n",
       "    </tr>\n",
       "    <tr>\n",
       "      <th>220034</th>\n",
       "      <td>272392</td>\n",
       "      <td>MIDAGE SINGLES/COUPLES</td>\n",
       "      <td>Premium</td>\n",
       "      <td>2018-10-31</td>\n",
       "      <td>272</td>\n",
       "      <td>270208</td>\n",
       "      <td>81</td>\n",
       "      <td>Pringles Original   Crisps 134g</td>\n",
       "      <td>2</td>\n",
       "      <td>7.4</td>\n",
       "      <td>134.0</td>\n",
       "      <td>PRINGLES</td>\n",
       "    </tr>\n",
       "    <tr>\n",
       "      <th>220035</th>\n",
       "      <td>272392</td>\n",
       "      <td>MIDAGE SINGLES/COUPLES</td>\n",
       "      <td>Premium</td>\n",
       "      <td>2019-02-17</td>\n",
       "      <td>272</td>\n",
       "      <td>270209</td>\n",
       "      <td>78</td>\n",
       "      <td>Thins Chips Salt &amp;  Vinegar 175g</td>\n",
       "      <td>2</td>\n",
       "      <td>6.6</td>\n",
       "      <td>175.0</td>\n",
       "      <td>THINS</td>\n",
       "    </tr>\n",
       "  </tbody>\n",
       "</table>\n",
       "<p>220036 rows × 12 columns</p>\n",
       "</div>"
      ],
      "text/plain": [
       "        LYLTY_CARD_NBR               LIFESTAGE PREMIUM_CUSTOMER       DATE  \\\n",
       "0                 1000   YOUNG SINGLES/COUPLES          Premium 2018-10-17   \n",
       "1                 1010   YOUNG SINGLES/COUPLES       Mainstream 2018-09-09   \n",
       "2                 1011   OLDER SINGLES/COUPLES       Mainstream 2018-07-29   \n",
       "3                 1013                RETIREES           Budget 2019-03-07   \n",
       "4                 1025          YOUNG FAMILIES           Budget 2018-11-21   \n",
       "...                ...                     ...              ...        ...   \n",
       "220031          272391   YOUNG SINGLES/COUPLES       Mainstream 2018-12-07   \n",
       "220032          272392  MIDAGE SINGLES/COUPLES          Premium 2018-09-26   \n",
       "220033          272392  MIDAGE SINGLES/COUPLES          Premium 2018-09-29   \n",
       "220034          272392  MIDAGE SINGLES/COUPLES          Premium 2018-10-31   \n",
       "220035          272392  MIDAGE SINGLES/COUPLES          Premium 2019-02-17   \n",
       "\n",
       "        STORE_NBR  TXN_ID  PROD_NBR                                PROD_NAME  \\\n",
       "0               1       1         5   Natural Chip        Compny SeaSalt175g   \n",
       "1               1      10        51                 Doritos Mexicana    170g   \n",
       "2               1      12        84    GrnWves Plus Btroot & Chilli Jam 180g   \n",
       "3               1      19        91                 CCs Tasty Cheese    175g   \n",
       "4               1      32        69   Smiths Chip Thinly  S/Cream&Onion 175g   \n",
       "...           ...     ...       ...                                      ...   \n",
       "220031        272  270205        63             Kettle 135g Swt Pot Sea Salt   \n",
       "220032        272  270206        70  Tyrrells Crisps     Lightly Salted 165g   \n",
       "220033        272  270207        75           Cobs Popd Sea Salt  Chips 110g   \n",
       "220034        272  270208        81          Pringles Original   Crisps 134g   \n",
       "220035        272  270209        78         Thins Chips Salt &  Vinegar 175g   \n",
       "\n",
       "        PROD_QTY  TOT_SALES  PACK_SIZE     BRAND  \n",
       "0              2        6.0      175.0   NATURAL  \n",
       "1              2        8.8      170.0   DORITOS  \n",
       "2              2        6.2      180.0   GRNWVES  \n",
       "3              2        4.2      175.0       CCS  \n",
       "4              2        6.0      175.0    SMITHS  \n",
       "...          ...        ...        ...       ...  \n",
       "220031         2        8.4      135.0    KETTLE  \n",
       "220032         2        8.4      165.0  TYRRELLS  \n",
       "220033         2        7.6      110.0      COBS  \n",
       "220034         2        7.4      134.0  PRINGLES  \n",
       "220035         2        6.6      175.0     THINS  \n",
       "\n",
       "[220036 rows x 12 columns]"
      ]
     },
     "execution_count": 47,
     "metadata": {},
     "output_type": "execute_result"
    }
   ],
   "source": [
    "df"
   ]
  },
  {
   "cell_type": "code",
   "execution_count": 48,
   "id": "34000c1d",
   "metadata": {},
   "outputs": [],
   "source": [
    "# saving the cleaned and merged data \n",
    "cleaned_merged_data = df\n",
    "cleaned_merged_data.to_csv('c:/quantium_sandbox/cleaned_merged_data.csv', index=False)"
   ]
  },
  {
   "cell_type": "code",
   "execution_count": 49,
   "id": "1e5478a9",
   "metadata": {},
   "outputs": [
    {
     "name": "stdout",
     "output_type": "stream",
     "text": [
      "<class 'pandas.core.frame.DataFrame'>\n",
      "Int64Index: 220036 entries, 0 to 220035\n",
      "Data columns (total 12 columns):\n",
      " #   Column            Non-Null Count   Dtype         \n",
      "---  ------            --------------   -----         \n",
      " 0   LYLTY_CARD_NBR    220036 non-null  int64         \n",
      " 1   LIFESTAGE         220036 non-null  object        \n",
      " 2   PREMIUM_CUSTOMER  220036 non-null  object        \n",
      " 3   DATE              220036 non-null  datetime64[ns]\n",
      " 4   STORE_NBR         220036 non-null  int64         \n",
      " 5   TXN_ID            220036 non-null  int64         \n",
      " 6   PROD_NBR          220036 non-null  int64         \n",
      " 7   PROD_NAME         220036 non-null  object        \n",
      " 8   PROD_QTY          220036 non-null  int64         \n",
      " 9   TOT_SALES         220036 non-null  float64       \n",
      " 10  PACK_SIZE         220036 non-null  float64       \n",
      " 11  BRAND             220036 non-null  object        \n",
      "dtypes: datetime64[ns](1), float64(2), int64(5), object(4)\n",
      "memory usage: 21.8+ MB\n"
     ]
    }
   ],
   "source": [
    "df.info()"
   ]
  },
  {
   "cell_type": "markdown",
   "id": "991dab4a",
   "metadata": {},
   "source": [
    "# Data analysis on customer segments"
   ]
  },
  {
   "cell_type": "markdown",
   "id": "7ffb3dc0",
   "metadata": {},
   "source": [
    "Now that the data is ready for analysis, we can define some metrics of interest to the client:\n",
    "\n",
    "* Who spends the most on chips (total sales), describing customers by lifestage and how premium their\n",
    "general purchasing behaviour is\n",
    "* How many customers are in each segment\n",
    "* How many chips are bought per customer by segment\n",
    "* What’s the average chip price by customer segment\n",
    "\n",
    "We could also dive in to fetch more information such as:\n",
    "\n",
    "* The customer’s total spend over the period and total spend for each transaction to understand what\n",
    "proportion of their grocery spend is on chips\n",
    "* Proportion of customers in each customer segment overall to compare against the mix of customers\n",
    "who purchase chips"
   ]
  },
  {
   "cell_type": "code",
   "execution_count": 50,
   "id": "589a35fc",
   "metadata": {},
   "outputs": [
    {
     "name": "stdout",
     "output_type": "stream",
     "text": [
      "The total sales overall is $1692039.90\n"
     ]
    }
   ],
   "source": [
    "# calculating total sales overall\n",
    "total_sales = df['TOT_SALES'].sum()\n",
    "print(f\"The total sales overall is ${total_sales:.2f}\")"
   ]
  },
  {
   "cell_type": "code",
   "execution_count": 51,
   "id": "003d84ee",
   "metadata": {},
   "outputs": [
    {
     "data": {
      "image/png": "[encoded data removed]",
      "text/plain": [
       "<Figure size 720x432 with 1 Axes>"
      ]
     },
     "metadata": {},
     "output_type": "display_data"
    }
   ],
   "source": [
    "'''calculating total sales by LIFESTAGE and PREMIUM_CUSTOMER and plotting the split by\n",
    "these segments to describe which customer segment contribute most to chip sales.'''\n",
    "\n",
    "# aggregating the sales data by LIFESTAGE and PREMIUM_CUSTOMER\n",
    "aggregated_sales = df.groupby(['LIFESTAGE', 'PREMIUM_CUSTOMER'])['TOT_SALES'].sum().reset_index()\n",
    "\n",
    "# pivoting the aggregated sales data for plotting\n",
    "pivot_sales = aggregated_sales.pivot(index='LIFESTAGE', columns='PREMIUM_CUSTOMER', values='TOT_SALES')\n",
    "\n",
    "# creating a stacked bar plot\n",
    "pivot_sales.plot(kind='bar', stacked=True, figsize=(10, 6))\n",
    "plt.xlabel('Lifestage')\n",
    "plt.ylabel('Total Sales')\n",
    "plt.title('Total Sales by Lifestage and Premium Customer')\n",
    "plt.xticks(rotation=45)\n",
    "plt.legend(title='Premium Customer', loc='upper left')\n",
    "plt.tight_layout()\n",
    "\n",
    "plt.show()"
   ]
  },
  {
   "cell_type": "markdown",
   "id": "0fb52c82",
   "metadata": {},
   "source": [
    "Inference: \n",
    "    sales are coming mainly from Budget - older families, Mainstream - young singles/couples, and Mainstream - retirees \n",
    "    and Premium - Older singles/couples"
   ]
  },
  {
   "cell_type": "code",
   "execution_count": 52,
   "id": "65514898",
   "metadata": {},
   "outputs": [
    {
     "data": {
      "image/png": "[encoded data removed]",
      "text/plain": [
       "<Figure size 720x432 with 1 Axes>"
      ]
     },
     "metadata": {},
     "output_type": "display_data"
    }
   ],
   "source": [
    "# now let’s see if the higher sales are due to there being more customers who buy chips\n",
    "\n",
    "# aggregating the customers data by LIFESTAGE and PREMIUM_CUSTOMER\n",
    "aggregated_customers = df.groupby(['LIFESTAGE', 'PREMIUM_CUSTOMER'])['LYLTY_CARD_NBR'].sum().reset_index()\n",
    "\n",
    "# pivoting the aggregated customers data for plotting\n",
    "pivot_customers = aggregated_customers.pivot(index='LIFESTAGE', columns='PREMIUM_CUSTOMER', values='LYLTY_CARD_NBR')\n",
    "\n",
    "# creating a stacked bar plot\n",
    "pivot_customers.plot(kind='bar', stacked=True, figsize=(10, 6))\n",
    "plt.xlabel('Lifestage')\n",
    "plt.ylabel('Number of Customers')\n",
    "plt.title('Number of Customers by Lifestage and Premium Customer')\n",
    "plt.xticks(rotation=45)\n",
    "plt.legend(title='Premium Customer', loc='upper left')\n",
    "plt.tight_layout()\n",
    "\n",
    "plt.show()"
   ]
  },
  {
   "cell_type": "markdown",
   "id": "37a527c3",
   "metadata": {},
   "source": [
    "Inference: \n",
    "    * There are more Mainstream - young singles/couples and Mainstream - retirees who buy chips. \n",
    "    This contributes to there being more sales to these customer segments but this is not a major \n",
    "    driver for the Budget- Older families segment.\n",
    "    * Higher sales may also be driven by more units of chips being bought per customer. \n",
    "    Let’s have a look at this next."
   ]
  },
  {
   "cell_type": "code",
   "execution_count": 53,
   "id": "a5518d6f",
   "metadata": {
    "scrolled": true
   },
   "outputs": [
    {
     "name": "stdout",
     "output_type": "stream",
     "text": [
      "                 LIFESTAGE PREMIUM_CUSTOMER       AVG  LYLTY_CARD_NBR\n",
      "7           OLDER FAMILIES       Mainstream  9.824771            2511\n",
      "6           OLDER FAMILIES           Budget  9.646321            4145\n",
      "8           OLDER FAMILIES          Premium  9.568238            2015\n",
      "17          YOUNG FAMILIES          Premium  9.350919            2123\n",
      "15          YOUNG FAMILIES           Budget  9.270110            3543\n",
      "16          YOUNG FAMILIES       Mainstream  9.223154            2384\n",
      "10   OLDER SINGLES/COUPLES       Mainstream  7.168618            4270\n",
      "9    OLDER SINGLES/COUPLES           Budget  7.163544            4323\n",
      "11   OLDER SINGLES/COUPLES          Premium  7.151573            4163\n",
      "1   MIDAGE SINGLES/COUPLES       Mainstream  6.829619            2917\n",
      "0   MIDAGE SINGLES/COUPLES           Budget  6.689935            1232\n",
      "2   MIDAGE SINGLES/COUPLES          Premium  6.687375            1996\n",
      "12                RETIREES           Budget  6.565959            3813\n",
      "14                RETIREES          Premium  6.442005            3371\n",
      "13                RETIREES       Mainstream  6.379682            5473\n",
      "4             NEW FAMILIES       Mainstream  5.298146             701\n",
      "3             NEW FAMILIES           Budget  5.251372             911\n",
      "5             NEW FAMILIES          Premium  5.147475             495\n",
      "19   YOUNG SINGLES/COUPLES       Mainstream  4.947937            6665\n",
      "20   YOUNG SINGLES/COUPLES          Premium  4.900844            1896\n",
      "18   YOUNG SINGLES/COUPLES           Budget  4.868694            2795\n"
     ]
    }
   ],
   "source": [
    "# calculating the average units per customer\n",
    "avg_units = df.groupby(['LIFESTAGE', 'PREMIUM_CUSTOMER']) \\\n",
    "                .agg(AVG=pd.NamedAgg(column='PROD_QTY', aggfunc='sum')) \\\n",
    "                .reset_index()\n",
    "\n",
    "# calculating the number of unique customers per group\n",
    "unique_customers = df.groupby(['LIFESTAGE', 'PREMIUM_CUSTOMER'])['LYLTY_CARD_NBR'] \\\n",
    "                       .nunique().reset_index()\n",
    "\n",
    "# merging the two dataframes to calculate the average units per customer\n",
    "avg_units = pd.merge(avg_units, unique_customers, on=['LIFESTAGE', 'PREMIUM_CUSTOMER'])\n",
    "avg_units['AVG'] = avg_units['AVG'] / avg_units['LYLTY_CARD_NBR']\n",
    "\n",
    "# sorting the dataframe by AVG in descending order\n",
    "avg_units = avg_units.sort_values(by='AVG', ascending=False)\n",
    "\n",
    "print(avg_units)"
   ]
  },
  {
   "cell_type": "code",
   "execution_count": 54,
   "id": "5a660570",
   "metadata": {},
   "outputs": [
    {
     "data": {
      "image/png": "[encoded data removed]",
      "text/plain": [
       "<Figure size 720x432 with 1 Axes>"
      ]
     },
     "metadata": {},
     "output_type": "display_data"
    }
   ],
   "source": [
    "# creating a bar plot reprensentation of the above results using Seaborn\n",
    "plt.figure(figsize=(10, 6))\n",
    "sns.barplot(x='AVG', y='LIFESTAGE', hue='PREMIUM_CUSTOMER', data=avg_units)\n",
    "plt.xlabel('Average Units per Customer')\n",
    "plt.ylabel('LIFESTAGE')\n",
    "plt.title('Average Units per Customer by LIFESTAGE and PREMIUM_CUSTOMER')\n",
    "plt.legend(title='PREMIUM_CUSTOMER')\n",
    "\n",
    "plt.show()"
   ]
  },
  {
   "cell_type": "markdown",
   "id": "84e77eb9",
   "metadata": {},
   "source": [
    "Inference: \n",
    "    * Older families and young families in general buy more chips per customer.\n",
    "    * Now, let’s also investigate the average price per unit chips bought for each customer \n",
    "    segment as this is also adriver of total sales."
   ]
  },
  {
   "cell_type": "code",
   "execution_count": 55,
   "id": "de2b5111",
   "metadata": {},
   "outputs": [
    {
     "name": "stdout",
     "output_type": "stream",
     "text": [
      "                 LIFESTAGE PREMIUM_CUSTOMER       AVG  PROD_QTY\n",
      "19   YOUNG SINGLES/COUPLES       Mainstream  4.084220     32978\n",
      "1   MIDAGE SINGLES/COUPLES       Mainstream  3.992686     19922\n",
      "4             NEW FAMILIES       Mainstream  3.961039      3714\n",
      "3             NEW FAMILIES           Budget  3.950460      4784\n",
      "12                RETIREES           Budget  3.940641     25036\n",
      "14                RETIREES          Premium  3.928781     21716\n",
      "11   OLDER SINGLES/COUPLES          Premium  3.903668     29772\n",
      "5             NEW FAMILIES          Premium  3.899137      2548\n",
      "9    OLDER SINGLES/COUPLES           Budget  3.890145     30968\n",
      "13                RETIREES       Mainstream  3.866806     34916\n",
      "10   OLDER SINGLES/COUPLES       Mainstream  3.829487     30610\n",
      "2   MIDAGE SINGLES/COUPLES          Premium  3.795280     13348\n",
      "0   MIDAGE SINGLES/COUPLES           Budget  3.768733      8242\n",
      "15          YOUNG FAMILIES           Budget  3.766259     32844\n",
      "17          YOUNG FAMILIES          Premium  3.759908     19852\n",
      "6           OLDER FAMILIES           Budget  3.750668     39984\n",
      "7           OLDER FAMILIES       Mainstream  3.736494     24670\n",
      "20   YOUNG SINGLES/COUPLES          Premium  3.735321      9292\n",
      "18   YOUNG SINGLES/COUPLES           Budget  3.727910     13608\n",
      "16          YOUNG FAMILIES       Mainstream  3.727101     21988\n",
      "8           OLDER FAMILIES          Premium  3.722308     19280\n"
     ]
    }
   ],
   "source": [
    "# calculating the average price per unit\n",
    "avg_price = df.groupby(['LIFESTAGE', 'PREMIUM_CUSTOMER']) \\\n",
    "                .agg(AVG=pd.NamedAgg(column='TOT_SALES', aggfunc='sum'),\n",
    "                     PROD_QTY=pd.NamedAgg(column='PROD_QTY', aggfunc='sum')) \\\n",
    "                .reset_index()\n",
    "\n",
    "avg_price['AVG'] = avg_price['AVG'] / avg_price['PROD_QTY']\n",
    "\n",
    "# sorting the dataframe by AVG in descending order\n",
    "avg_price = avg_price.sort_values(by='AVG', ascending=False)\n",
    "\n",
    "print(avg_price)"
   ]
  },
  {
   "cell_type": "code",
   "execution_count": 56,
   "id": "877c7979",
   "metadata": {},
   "outputs": [
    {
     "data": {
      "image/png": "[encoded data removed]",
      "text/plain": [
       "<Figure size 720x432 with 1 Axes>"
      ]
     },
     "metadata": {},
     "output_type": "display_data"
    }
   ],
   "source": [
    "# creating a bar plot of the results using Seaborn\n",
    "plt.figure(figsize=(10, 6))\n",
    "sns.barplot(x='AVG', y='LIFESTAGE', hue='PREMIUM_CUSTOMER', data=avg_price)\n",
    "plt.xlabel('Average Price per Unit')\n",
    "plt.ylabel('LIFESTAGE')\n",
    "plt.title('Average Price per Unit by LIFESTAGE and PREMIUM_CUSTOMER')\n",
    "plt.legend(title='PREMIUM_CUSTOMER')\n",
    "\n",
    "plt.show()"
   ]
  },
  {
   "cell_type": "markdown",
   "id": "edb05f34",
   "metadata": {},
   "source": [
    "Inference: \n",
    "    Mainstream midage and young singles and couples are more willing to pay more per packet of chips compared to their \n",
    "    budget and premium counterparts. This may be due to premium shoppers being more likely to buy healthy snacks and when \n",
    "    they buy chips, this is mainly for entertainment purposes rather than their ownconsumption. This is also supported by \n",
    "    there being fewer premium midage and young singles and couples buying chips compared to their mainstream counterparts."
   ]
  },
  {
   "cell_type": "markdown",
   "id": "72bf20ae",
   "metadata": {},
   "source": [
    "# Deep dive into specific customer segments for insights"
   ]
  },
  {
   "cell_type": "markdown",
   "id": "13ec3277",
   "metadata": {},
   "source": [
    "We have found quite a few interesting insights that we can dive deeper into. We might want to target customer segments \n",
    "that contribute the most to sales to retain them or further increase sales. Let’s look at Mainstream - young singles/couples. For instance, let’s find out if they tend to buy a particular brand of chips."
   ]
  },
  {
   "cell_type": "code",
   "execution_count": 57,
   "id": "0ed26717",
   "metadata": {},
   "outputs": [
    {
     "name": "stdout",
     "output_type": "stream",
     "text": [
      "            targetSegment     other  affinityToBrand\n",
      "BRAND                                               \n",
      "DORITOS          0.124447  0.101731         1.223293\n",
      "TYRRELLS         0.031536  0.025797         1.222452\n",
      "TWISTIES         0.046395  0.038065         1.218827\n",
      "TOSTITOS         0.045546  0.038139         1.194210\n",
      "PRINGLES         0.120383  0.100842         1.193786\n",
      "KETTLE           0.198193  0.166654         1.189244\n",
      "INFUZIONS        0.066044  0.057274         1.153119\n",
      "COBS             0.045182  0.039386         1.147136\n",
      "THINS            0.061556  0.057147         1.077165\n",
      "GRNWVES          0.032203  0.031231         1.031128\n",
      "CHEEZELS         0.018497  0.018492         1.000278\n",
      "SMITHS           0.094184  0.124025         0.759393\n",
      "FRENCH           0.003942  0.005640         0.698943\n",
      "CHEETOS          0.007460  0.011860         0.628982\n",
      "RRD              0.042028  0.066849         0.628697\n",
      "NATURAL          0.019043  0.030435         0.625689\n",
      "CCS              0.010613  0.018713         0.567149\n",
      "SUNBITES         0.006186  0.012361         0.500449\n",
      "WOOLWORTHS       0.023895  0.048863         0.489010\n",
      "BURGER           0.002668  0.006495         0.410858\n"
     ]
    }
   ],
   "source": [
    "# creating a segment for \"Mainstream, young singles/couples\"\n",
    "segment1 = df[(df['LIFESTAGE'] == \"YOUNG SINGLES/COUPLES\") & (df['PREMIUM_CUSTOMER'] == \"Mainstream\")]\n",
    "\n",
    "# creating a segment for other groups\n",
    "other = df[~((df['LIFESTAGE'] == \"YOUNG SINGLES/COUPLES\") & (df['PREMIUM_CUSTOMER'] == \"Mainstream\"))]\n",
    "\n",
    "# calculating quantity for the segment and other\n",
    "quantity_segment1 = segment1['PROD_QTY'].sum()\n",
    "quantity_other = other['PROD_QTY'].sum()\n",
    "\n",
    "# calculating brand affinity compared to the rest of the population\n",
    "quantity_segment1_by_brand = segment1.groupby('BRAND').agg(targetSegment=('PROD_QTY', 'sum')) / quantity_segment1\n",
    "quantity_other_by_brand = other.groupby('BRAND').agg(other=('PROD_QTY', 'sum')) / quantity_other\n",
    "\n",
    "# merging the two dataframes and calculate brand affinity\n",
    "brand_proportions = pd.merge(quantity_segment1_by_brand, quantity_other_by_brand, left_index=True, right_index=True)\n",
    "brand_proportions['affinityToBrand'] = brand_proportions['targetSegment'] / brand_proportions['other']\n",
    "brand_proportions = brand_proportions.sort_values(by='affinityToBrand', ascending=False)\n",
    "\n",
    "print(brand_proportions)"
   ]
  },
  {
   "cell_type": "markdown",
   "id": "ec162266",
   "metadata": {},
   "source": [
    "Inference;\n",
    "\n",
    "We can see that :\n",
    "• Mainstream young singles/couples are 23% more likely to purchase Doritos chips compared to the rest of the population\n",
    "• Mainstream young singles/couples are 56% less likely to purchase Burger Rings compared to the rest of the population\n",
    "\n",
    "Let’s also find out if our target segment tends to buy larger packs of chips."
   ]
  },
  {
   "cell_type": "code",
   "execution_count": 58,
   "id": "1bfc96d4",
   "metadata": {},
   "outputs": [
    {
     "name": "stdout",
     "output_type": "stream",
     "text": [
      "           targetSegment     other  affinityToPack\n",
      "PACK_SIZE                                         \n",
      "270.0           0.032082  0.025228        1.271703\n",
      "380.0           0.032446  0.025606        1.267126\n",
      "330.0           0.061738  0.050450        1.223742\n",
      "110.0           0.108375  0.090436        1.198363\n",
      "134.0           0.120383  0.100842        1.193786\n",
      "210.0           0.028807  0.025257        1.140555\n",
      "250.0           0.014313  0.012837        1.114918\n",
      "135.0           0.014434  0.013191        1.094216\n",
      "170.0           0.080963  0.081067        0.998715\n",
      "150.0           0.156711  0.163574        0.958041\n",
      "175.0           0.254655  0.269692        0.944242\n",
      "165.0           0.054461  0.061941        0.879226\n",
      "190.0           0.007338  0.012287        0.597231\n",
      "180.0           0.003396  0.005974        0.568493\n",
      "160.0           0.006307  0.012115        0.520608\n",
      "125.0           0.003032  0.005935        0.510944\n",
      "90.0            0.006186  0.012361        0.500449\n",
      "200.0           0.008854  0.018487        0.478949\n",
      "70.0            0.002850  0.006225        0.457922\n",
      "220.0           0.002668  0.006495        0.410858\n"
     ]
    }
   ],
   "source": [
    "# creating a segment for \"Mainstream, young singles/couples\"\n",
    "segment1 = df[(df['LIFESTAGE'] == \"YOUNG SINGLES/COUPLES\") & (df['PREMIUM_CUSTOMER'] == \"Mainstream\")]\n",
    "\n",
    "# creating a segment for other groups\n",
    "other = df[~((df['LIFESTAGE'] == \"YOUNG SINGLES/COUPLES\") & (df['PREMIUM_CUSTOMER'] == \"Mainstream\"))]\n",
    "\n",
    "# calculating quantity for the segment and other\n",
    "quantity_segment1 = segment1['PROD_QTY'].sum()\n",
    "quantity_other = other['PROD_QTY'].sum()\n",
    "\n",
    "# calculating preferred pack size compared to the rest of the population\n",
    "quantity_segment1_by_pack = segment1.groupby('PACK_SIZE').agg(targetSegment=('PROD_QTY', 'sum')) / quantity_segment1\n",
    "quantity_other_by_pack = other.groupby('PACK_SIZE').agg(other=('PROD_QTY', 'sum')) / quantity_other\n",
    "\n",
    "# merging the two dataframes and calculate pack affinity\n",
    "pack_proportions = pd.merge(quantity_segment1_by_pack, quantity_other_by_pack, left_index=True, right_index=True)\n",
    "pack_proportions['affinityToPack'] = pack_proportions['targetSegment'] / pack_proportions['other']\n",
    "pack_proportions = pack_proportions.sort_values(by='affinityToPack', ascending=False)\n",
    "\n",
    "print(pack_proportions)"
   ]
  },
  {
   "cell_type": "markdown",
   "id": "017ed606",
   "metadata": {},
   "source": [
    "Inference:\n",
    "It looks like Mainstream young singles/couples are 27% more likely to purchase a 270g pack of chips compared to the \n",
    "rest of the population but let’s dive into what brands sell this pack size."
   ]
  },
  {
   "cell_type": "code",
   "execution_count": 59,
   "id": "ef5c1319",
   "metadata": {},
   "outputs": [
    {
     "name": "stdout",
     "output_type": "stream",
     "text": [
      "['Twisties Cheese     270g' 'Twisties Chicken270g']\n"
     ]
    }
   ],
   "source": [
    "# Retrieve unique product names for PACK_SIZE == 270\n",
    "\n",
    "unique_product_names = df[df['PACK_SIZE'] == 270]['PROD_NAME'].unique()\n",
    "print(unique_product_names)"
   ]
  },
  {
   "cell_type": "markdown",
   "id": "b88252fa",
   "metadata": {},
   "source": [
    "From the results above, Twisties are the only brand offering 270g packs and so this may instead be reflecting a higher \n",
    "likelihood of purchasing Twisties."
   ]
  },
  {
   "cell_type": "markdown",
   "id": "e450567e",
   "metadata": {},
   "source": [
    "# Conclusion"
   ]
  },
  {
   "cell_type": "markdown",
   "id": "b3b4d679",
   "metadata": {},
   "source": [
    "Let’s recap what we’ve found:\n",
    "    1. Sales have mainly been due to Budget - older families, Mainstream - young singles/couples, and Mainstream - retirees \n",
    "    shoppers. \n",
    "    2. We found that the high spend in chips for mainstream young singles/couples and retirees is due to there being more \n",
    "    of them than other buyers. Mainstream, midage and young singles and couples are also more likely to pay more per packet \n",
    "    of chips. This is indicative of impulse buying behaviour.\n",
    "    3. We’ve also found that Mainstream young singles and couples are 23% more likely to purchase Doritos chips compared to \n",
    "    the rest of the population. The Category Manager may want to increase the category’s performance by off-locating some \n",
    "    Doritos and smaller packs of chips in discretionary space near segments where young singles and couples frequent more \n",
    "    often to increase visibilty and impulse behaviour.\n",
    "     4. A further analysis can help the Category Manager with recommendations of where these segments are and further help\n",
    "     them with measuring the impact of the changed placement in subsequent analysis."
   ]
  },
  {
   "cell_type": "code",
   "execution_count": null,
   "id": "935fd2dd",
   "metadata": {},
   "outputs": [],
   "source": []
  }
 ],
 "metadata": {
  "kernelspec": {
   "display_name": "Python 3 (ipykernel)",
   "language": "python",
   "name": "python3"
  },
  "language_info": {
   "codemirror_mode": {
    "name": "ipython",
    "version": 3
   },
   "file_extension": ".py",
   "mimetype": "text/x-python",
   "name": "python",
   "nbconvert_exporter": "python",
   "pygments_lexer": "ipython3",
   "version": "3.9.7"
  }
 },
 "nbformat": 4,
 "nbformat_minor": 5
}
